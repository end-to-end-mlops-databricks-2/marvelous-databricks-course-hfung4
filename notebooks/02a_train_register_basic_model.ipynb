{
 "cells": [
  {
   "cell_type": "code",
   "execution_count": 1,
   "metadata": {},
   "outputs": [],
   "source": [
    "import mlflow\n",
    "from databricks.connect import DatabricksSession\n",
    "from airbnb_listing.config import Config, Tags, config\n",
    "from airbnb_listing.models.basic_model import BasicModel"
   ]
  },
  {
   "cell_type": "code",
   "execution_count": 2,
   "metadata": {},
   "outputs": [],
   "source": [
    "mlflow.set_tracking_uri(\"databricks\")\n",
    "mlflow.set_registry_uri(\"databricks-uc\")"
   ]
  },
  {
   "cell_type": "code",
   "execution_count": 3,
   "metadata": {},
   "outputs": [],
   "source": [
    "spark = DatabricksSession.builder.getOrCreate()"
   ]
  },
  {
   "cell_type": "code",
   "execution_count": 4,
   "metadata": {},
   "outputs": [
    {
     "data": {
      "text/plain": [
       "'abcd12345'"
      ]
     },
     "execution_count": 4,
     "metadata": {},
     "output_type": "execute_result"
    }
   ],
   "source": [
    "# raw tags\n",
    "tags_dict = {\"git_sha\": \"abcd12345\", \"branch\": \"week2\"}\n",
    "# validated tags\n",
    "tags = Tags(**tags_dict)\n",
    "tags.git_sha"
   ]
  },
  {
   "cell_type": "code",
   "execution_count": 5,
   "metadata": {},
   "outputs": [],
   "source": [
    "# Initialize model with the config path\n",
    "basic_model = BasicModel(config=config, tags=tags, spark=spark)"
   ]
  },
  {
   "cell_type": "code",
   "execution_count": 6,
   "metadata": {},
   "outputs": [
    {
     "name": "stderr",
     "output_type": "stream",
     "text": [
      "2025-02-16 21:52:35,049 - airbnb_listing - INFO - 🔄 Loading data from silver layer...\n",
      "INFO:airbnb_listing:🔄 Loading data from silver layer...\n",
      "INFO:airbnb_listing:🔄 Loading data from silver layer...\n",
      "2025-02-16 21:52:37,265 - airbnb_listing - INFO - ✅ Data loaded successfully.\n",
      "INFO:airbnb_listing:✅ Data loaded successfully.\n"
     ]
    }
   ],
   "source": [
    "basic_model.load_data()\n"
   ]
  },
  {
   "cell_type": "code",
   "execution_count": 7,
   "metadata": {},
   "outputs": [
    {
     "name": "stderr",
     "output_type": "stream",
     "text": [
      "2025-02-16 21:52:37,274 - airbnb_listing - INFO - 🔄 Defining train pipeline...\n",
      "INFO:airbnb_listing:🔄 Defining train pipeline...\n",
      "2025-02-16 21:52:37,279 - airbnb_listing - INFO - ✅ Train pipeline defined.\n",
      "INFO:airbnb_listing:✅ Train pipeline defined.\n",
      "INFO:airbnb_listing:🔄 Defining train pipeline...\n",
      "2025-02-16 21:52:37,279 - airbnb_listing - INFO - ✅ Train pipeline defined.\n",
      "INFO:airbnb_listing:✅ Train pipeline defined.\n"
     ]
    }
   ],
   "source": [
    "# Define the train pipeline\n",
    "basic_model.prepare_features()\n"
   ]
  },
  {
   "cell_type": "code",
   "execution_count": 8,
   "metadata": {},
   "outputs": [
    {
     "name": "stderr",
     "output_type": "stream",
     "text": [
      "2025-02-16 21:52:37,290 - airbnb_listing - INFO - 🚂 Training the model...\n",
      "INFO:airbnb_listing:🚂 Training the model...\n"
     ]
    },
    {
     "name": "stdout",
     "output_type": "stream",
     "text": [
      "[LightGBM] [Info] Auto-choosing row-wise multi-threading, the overhead of testing was 0.000219 seconds.\n",
      "You can set `force_row_wise=true` to remove the overhead.\n",
      "And if memory is not enough, you can set `force_col_wise=true`.\n",
      "[LightGBM] [Info] Total Bins 1563\n",
      "[LightGBM] [Info] Number of data points in the train set: 27277, number of used features: 123\n",
      "[LightGBM] [Info] Start training from score 4.739467\n",
      "[LightGBM] [Warning] No further splits with positive gain, best gain: -inf\n",
      "[LightGBM] [Warning] No further splits with positive gain, best gain: -inf\n",
      "[LightGBM] [Warning] No further splits with positive gain, best gain: -inf\n",
      "[LightGBM] [Warning] No further splits with positive gain, best gain: -inf\n",
      "[LightGBM] [Warning] No further splits with positive gain, best gain: -inf\n",
      "[LightGBM] [Warning] No further splits with positive gain, best gain: -inf\n",
      "[LightGBM] [Warning] No further splits with positive gain, best gain: -inf\n",
      "[LightGBM] [Warning] No further splits with positive gain, best gain: -inf\n",
      "[LightGBM] [Warning] No further splits with positive gain, best gain: -inf\n",
      "[LightGBM] [Warning] No further splits with positive gain, best gain: -inf\n",
      "[LightGBM] [Warning] No further splits with positive gain, best gain: -inf\n",
      "[LightGBM] [Warning] No further splits with positive gain, best gain: -inf\n",
      "[LightGBM] [Warning] No further splits with positive gain, best gain: -inf\n",
      "[LightGBM] [Warning] No further splits with positive gain, best gain: -inf\n",
      "[LightGBM] [Warning] No further splits with positive gain, best gain: -inf\n",
      "[LightGBM] [Warning] No further splits with positive gain, best gain: -inf\n",
      "[LightGBM] [Warning] No further splits with positive gain, best gain: -inf\n",
      "[LightGBM] [Warning] No further splits with positive gain, best gain: -inf\n",
      "[LightGBM] [Warning] No further splits with positive gain, best gain: -inf\n",
      "[LightGBM] [Warning] No further splits with positive gain, best gain: -inf\n",
      "[LightGBM] [Warning] No further splits with positive gain, best gain: -inf\n",
      "[LightGBM] [Warning] No further splits with positive gain, best gain: -inf\n",
      "[LightGBM] [Warning] No further splits with positive gain, best gain: -inf\n",
      "[LightGBM] [Warning] No further splits with positive gain, best gain: -inf\n",
      "[LightGBM] [Warning] No further splits with positive gain, best gain: -inf\n",
      "[LightGBM] [Warning] No further splits with positive gain, best gain: -inf\n",
      "[LightGBM] [Warning] No further splits with positive gain, best gain: -inf\n",
      "[LightGBM] [Warning] No further splits with positive gain, best gain: -inf\n",
      "[LightGBM] [Warning] No further splits with positive gain, best gain: -inf\n",
      "[LightGBM] [Warning] No further splits with positive gain, best gain: -inf\n",
      "[LightGBM] [Warning] No further splits with positive gain, best gain: -inf\n",
      "[LightGBM] [Warning] No further splits with positive gain, best gain: -inf\n",
      "[LightGBM] [Warning] No further splits with positive gain, best gain: -inf\n",
      "[LightGBM] [Warning] No further splits with positive gain, best gain: -inf\n",
      "[LightGBM] [Warning] No further splits with positive gain, best gain: -inf\n",
      "[LightGBM] [Warning] No further splits with positive gain, best gain: -inf\n",
      "[LightGBM] [Warning] No further splits with positive gain, best gain: -inf\n",
      "[LightGBM] [Warning] No further splits with positive gain, best gain: -inf\n",
      "[LightGBM] [Warning] No further splits with positive gain, best gain: -inf\n",
      "[LightGBM] [Warning] No further splits with positive gain, best gain: -inf\n",
      "[LightGBM] [Warning] No further splits with positive gain, best gain: -inf\n",
      "[LightGBM] [Warning] No further splits with positive gain, best gain: -inf\n",
      "[LightGBM] [Warning] No further splits with positive gain, best gain: -inf\n"
     ]
    },
    {
     "name": "stderr",
     "output_type": "stream",
     "text": [
      "2025-02-16 21:52:46,107 - airbnb_listing - INFO - 📊 Mean Squared Error: 0.18983959383516283\n",
      "INFO:airbnb_listing:📊 Mean Squared Error: 0.18983959383516283\n",
      "2025-02-16 21:52:46,108 - airbnb_listing - INFO - 📊 Mean Absolute Error: 0.31339085484799456\n",
      "INFO:airbnb_listing:📊 Mean Absolute Error: 0.31339085484799456\n",
      "INFO:airbnb_listing:📊 Mean Squared Error: 0.18983959383516283\n",
      "2025-02-16 21:52:46,108 - airbnb_listing - INFO - 📊 Mean Absolute Error: 0.31339085484799456\n",
      "INFO:airbnb_listing:📊 Mean Absolute Error: 0.31339085484799456\n",
      "2025/02/16 21:52:47 WARNING mlflow.data.spark_dataset: Encountered an unexpected exception while computing Spark dataset profile. Exception: [NOT_IMPLEMENTED] rdd is not implemented.\n",
      "2025/02/16 21:52:54 INFO mlflow.tracking._tracking_service.client: 🏃 View run vaunted-lamb-595 at: https://adb-2972378804555913.13.azuredatabricks.net/ml/experiments/2094072416575048/runs/bf8986fd6474461dab8edafa8788d53a.\n",
      "2025/02/16 21:52:54 INFO mlflow.tracking._tracking_service.client: 🧪 View experiment at: https://adb-2972378804555913.13.azuredatabricks.net/ml/experiments/2094072416575048.\n"
     ]
    }
   ],
   "source": [
    "# Train and log the model (runs everything including MLflow logging)\n",
    "basic_model.train()\n",
    "basic_model.log_model()"
   ]
  },
  {
   "cell_type": "code",
   "execution_count": null,
   "metadata": {},
   "outputs": [
    {
     "data": {
      "text/plain": [
       "'bf8986fd6474461dab8edafa8788d53a'"
      ]
     },
     "execution_count": 9,
     "metadata": {},
     "output_type": "execute_result"
    }
   ],
   "source": [
    "# Get experiment run id\n",
    "run_id = mlflow.search_runs(\n",
    "    experiment_names=[\"/Users/henryhfung4_gmail.com#ext#@henryhfung4gmail.onmicrosoft.com/airbnb_listing_price_basic\"], \n",
    "    filter_string=\"tags.branch='week2'\").run_id[0]\n",
    "run_id"
   ]
  },
  {
   "cell_type": "code",
   "execution_count": 10,
   "metadata": {},
   "outputs": [],
   "source": [
    "# Load the model from the current experiment run\n",
    "model = mlflow.sklearn.load_model(f\"runs:/{run_id}/lightgbm-pipeline-model\")"
   ]
  },
  {
   "cell_type": "code",
   "execution_count": 11,
   "metadata": {},
   "outputs": [
    {
     "name": "stderr",
     "output_type": "stream",
     "text": [
      "2025-02-16 21:52:55,886 - airbnb_listing - INFO - ✅ Dataset source loaded.\n",
      "INFO:airbnb_listing:✅ Dataset source loaded.\n"
     ]
    },
    {
     "data": {
      "text/html": [
       "<table border=\"1\" class=\"dataframe\">\n",
       "  <thead>\n",
       "    <tr style=\"text-align: right;\">\n",
       "      <th></th>\n",
       "      <th>id</th>\n",
       "      <th>is_manhattan</th>\n",
       "      <th>neighbourhood</th>\n",
       "      <th>room_type</th>\n",
       "      <th>minimum_nights</th>\n",
       "      <th>latitude</th>\n",
       "      <th>longitude</th>\n",
       "      <th>estimated_listed_months</th>\n",
       "      <th>availability_365</th>\n",
       "      <th>number_of_reviews</th>\n",
       "      <th>calculated_host_listings_count</th>\n",
       "      <th>last_review</th>\n",
       "      <th>log_price</th>\n",
       "      <th>update_timestamp_utc</th>\n",
       "    </tr>\n",
       "  </thead>\n",
       "  <tbody>\n",
       "    <tr>\n",
       "      <th>0</th>\n",
       "      <td>18570075</td>\n",
       "      <td>False</td>\n",
       "      <td>Clinton Hill</td>\n",
       "      <td>Entire home/apt</td>\n",
       "      <td>2.0</td>\n",
       "      <td>40.68908</td>\n",
       "      <td>-73.96429</td>\n",
       "      <td>26.130653</td>\n",
       "      <td>361.0</td>\n",
       "      <td>52.0</td>\n",
       "      <td>2.0</td>\n",
       "      <td>2019-06-09</td>\n",
       "      <td>5.857933</td>\n",
       "      <td>2025-02-12 04:05:47.873</td>\n",
       "    </tr>\n",
       "    <tr>\n",
       "      <th>1</th>\n",
       "      <td>26717498</td>\n",
       "      <td>False</td>\n",
       "      <td>Gowanus</td>\n",
       "      <td>Entire home/apt</td>\n",
       "      <td>9.0</td>\n",
       "      <td>40.66873</td>\n",
       "      <td>-73.99263</td>\n",
       "      <td>NaN</td>\n",
       "      <td>0.0</td>\n",
       "      <td>0.0</td>\n",
       "      <td>1.0</td>\n",
       "      <td>NaT</td>\n",
       "      <td>4.025352</td>\n",
       "      <td>2025-02-12 04:05:47.873</td>\n",
       "    </tr>\n",
       "    <tr>\n",
       "      <th>2</th>\n",
       "      <td>18523182</td>\n",
       "      <td>False</td>\n",
       "      <td>Bedford-Stuyvesant</td>\n",
       "      <td>Private room</td>\n",
       "      <td>1.0</td>\n",
       "      <td>40.68473</td>\n",
       "      <td>-73.94799</td>\n",
       "      <td>26.153846</td>\n",
       "      <td>0.0</td>\n",
       "      <td>17.0</td>\n",
       "      <td>1.0</td>\n",
       "      <td>2019-05-26</td>\n",
       "      <td>4.077537</td>\n",
       "      <td>2025-02-12 04:05:47.873</td>\n",
       "    </tr>\n",
       "    <tr>\n",
       "      <th>3</th>\n",
       "      <td>12303877</td>\n",
       "      <td>True</td>\n",
       "      <td>Hell's Kitchen</td>\n",
       "      <td>Private room</td>\n",
       "      <td>3.0</td>\n",
       "      <td>40.76446</td>\n",
       "      <td>-73.99175</td>\n",
       "      <td>NaN</td>\n",
       "      <td>0.0</td>\n",
       "      <td>0.0</td>\n",
       "      <td>1.0</td>\n",
       "      <td>NaT</td>\n",
       "      <td>4.394449</td>\n",
       "      <td>2025-02-12 04:05:47.873</td>\n",
       "    </tr>\n",
       "    <tr>\n",
       "      <th>4</th>\n",
       "      <td>31115149</td>\n",
       "      <td>False</td>\n",
       "      <td>Bedford-Stuyvesant</td>\n",
       "      <td>Private room</td>\n",
       "      <td>2.0</td>\n",
       "      <td>40.69032</td>\n",
       "      <td>-73.92437</td>\n",
       "      <td>NaN</td>\n",
       "      <td>10.0</td>\n",
       "      <td>0.0</td>\n",
       "      <td>1.0</td>\n",
       "      <td>NaT</td>\n",
       "      <td>4.094345</td>\n",
       "      <td>2025-02-12 04:05:47.873</td>\n",
       "    </tr>\n",
       "  </tbody>\n",
       "</table>"
      ],
      "text/plain": [
       "DataFrame[id: string, is_manhattan: boolean, neighbourhood: string, room_type: string, minimum_nights: double, latitude: double, longitude: double, estimated_listed_months: double, availability_365: double, number_of_reviews: double, calculated_host_listings_count: double, last_review: timestamp, log_price: double, update_timestamp_utc: timestamp]"
      ]
     },
     "metadata": {},
     "output_type": "display_data"
    }
   ],
   "source": [
    "# Retrieve dataset from the current experiment run\n",
    "display(basic_model.retrieve_current_run_dataset().limit(5))"
   ]
  },
  {
   "cell_type": "code",
   "execution_count": 12,
   "metadata": {},
   "outputs": [
    {
     "name": "stderr",
     "output_type": "stream",
     "text": [
      "2025-02-16 21:52:57,628 - airbnb_listing - INFO - ✅ Dataset metadata loaded.\n",
      "INFO:airbnb_listing:✅ Dataset metadata loaded.\n"
     ]
    },
    {
     "data": {
      "text/plain": [
       "({'mae': 0.31339085484799456, 'mse': 0.18983959383516283},\n",
       " {'learning_rate': '0.01',\n",
       "  'max_depth': '7',\n",
       "  'model_type': 'LGBMRegressor with preprocessing',\n",
       "  'n_estimators': '400',\n",
       "  'num_leaves': '70'})"
      ]
     },
     "execution_count": 12,
     "metadata": {},
     "output_type": "execute_result"
    }
   ],
   "source": [
    "basic_model.retrieve_current_run_metadata()"
   ]
  },
  {
   "cell_type": "code",
   "execution_count": 13,
   "metadata": {},
   "outputs": [
    {
     "name": "stderr",
     "output_type": "stream",
     "text": [
      "2025-02-16 21:52:57,637 - airbnb_listing - INFO - 📦 Registering model in Unity Catalog...\n",
      "INFO:airbnb_listing:📦 Registering model in Unity Catalog...\n",
      "INFO:airbnb_listing:📦 Registering model in Unity Catalog...\n",
      "Registered model 'dev.airbnb_listing_ml_assets.airbnb_listing_price_model_basic' already exists. Creating a new version of this model...\n",
      "Created version '3' of model 'dev.airbnb_listing_ml_assets.airbnb_listing_price_model_basic'.\n",
      "2025-02-16 21:53:01,598 - airbnb_listing - INFO - ✅ Model registered as version 3\n",
      "INFO:airbnb_listing:✅ Model registered as version 3\n"
     ]
    }
   ],
   "source": [
    "# Register model to the Unity Catalog Model Registry\n",
    "basic_model.register_model()"
   ]
  },
  {
   "cell_type": "code",
   "execution_count": 14,
   "metadata": {},
   "outputs": [],
   "source": [
    "# Perform inference with the registered model using the test set\n",
    "test_set = spark.table(f\"{config.general.DEV_CATALOG}.{config.general.SILVER_SCHEMA}.airbnb_listing_price_test\")"
   ]
  },
  {
   "cell_type": "code",
   "execution_count": 15,
   "metadata": {},
   "outputs": [
    {
     "data": {
      "text/html": [
       "<div>\n",
       "<style scoped>\n",
       "    .dataframe tbody tr th:only-of-type {\n",
       "        vertical-align: middle;\n",
       "    }\n",
       "\n",
       "    .dataframe tbody tr th {\n",
       "        vertical-align: top;\n",
       "    }\n",
       "\n",
       "    .dataframe thead th {\n",
       "        text-align: right;\n",
       "    }\n",
       "</style>\n",
       "<table border=\"1\" class=\"dataframe\">\n",
       "  <thead>\n",
       "    <tr style=\"text-align: right;\">\n",
       "      <th></th>\n",
       "      <th>id</th>\n",
       "      <th>is_manhattan</th>\n",
       "      <th>neighbourhood</th>\n",
       "      <th>room_type</th>\n",
       "      <th>minimum_nights</th>\n",
       "      <th>latitude</th>\n",
       "      <th>longitude</th>\n",
       "      <th>estimated_listed_months</th>\n",
       "      <th>availability_365</th>\n",
       "      <th>number_of_reviews</th>\n",
       "      <th>calculated_host_listings_count</th>\n",
       "      <th>last_review</th>\n",
       "      <th>update_timestamp_utc</th>\n",
       "    </tr>\n",
       "  </thead>\n",
       "  <tbody>\n",
       "    <tr>\n",
       "      <th>0</th>\n",
       "      <td>23075778</td>\n",
       "      <td>True</td>\n",
       "      <td>East Village</td>\n",
       "      <td>Entire home/apt</td>\n",
       "      <td>2.0</td>\n",
       "      <td>40.72629</td>\n",
       "      <td>-73.98417</td>\n",
       "      <td>16.806723</td>\n",
       "      <td>2.0</td>\n",
       "      <td>20.0</td>\n",
       "      <td>1.0</td>\n",
       "      <td>2019-06-16</td>\n",
       "      <td>2025-02-12 04:05:57.704</td>\n",
       "    </tr>\n",
       "    <tr>\n",
       "      <th>1</th>\n",
       "      <td>29513000</td>\n",
       "      <td>True</td>\n",
       "      <td>Gramercy</td>\n",
       "      <td>Entire home/apt</td>\n",
       "      <td>5.0</td>\n",
       "      <td>40.73670</td>\n",
       "      <td>-73.98985</td>\n",
       "      <td>8.333333</td>\n",
       "      <td>145.0</td>\n",
       "      <td>28.0</td>\n",
       "      <td>1.0</td>\n",
       "      <td>2019-06-19</td>\n",
       "      <td>2025-02-12 04:05:57.704</td>\n",
       "    </tr>\n",
       "    <tr>\n",
       "      <th>2</th>\n",
       "      <td>1886240</td>\n",
       "      <td>True</td>\n",
       "      <td>SoHo</td>\n",
       "      <td>Entire home/apt</td>\n",
       "      <td>1.0</td>\n",
       "      <td>40.72617</td>\n",
       "      <td>-74.00141</td>\n",
       "      <td>NaN</td>\n",
       "      <td>0.0</td>\n",
       "      <td>0.0</td>\n",
       "      <td>1.0</td>\n",
       "      <td>NaT</td>\n",
       "      <td>2025-02-12 04:05:57.704</td>\n",
       "    </tr>\n",
       "    <tr>\n",
       "      <th>3</th>\n",
       "      <td>19970764</td>\n",
       "      <td>True</td>\n",
       "      <td>Lower East Side</td>\n",
       "      <td>Entire home/apt</td>\n",
       "      <td>1.0</td>\n",
       "      <td>40.72337</td>\n",
       "      <td>-73.99057</td>\n",
       "      <td>4.761905</td>\n",
       "      <td>352.0</td>\n",
       "      <td>3.0</td>\n",
       "      <td>3.0</td>\n",
       "      <td>2019-05-05</td>\n",
       "      <td>2025-02-12 04:05:57.704</td>\n",
       "    </tr>\n",
       "    <tr>\n",
       "      <th>4</th>\n",
       "      <td>30388011</td>\n",
       "      <td>True</td>\n",
       "      <td>Theater District</td>\n",
       "      <td>Entire home/apt</td>\n",
       "      <td>14.0</td>\n",
       "      <td>40.75988</td>\n",
       "      <td>-73.98568</td>\n",
       "      <td>NaN</td>\n",
       "      <td>341.0</td>\n",
       "      <td>0.0</td>\n",
       "      <td>232.0</td>\n",
       "      <td>NaT</td>\n",
       "      <td>2025-02-12 04:05:57.704</td>\n",
       "    </tr>\n",
       "    <tr>\n",
       "      <th>5</th>\n",
       "      <td>18190894</td>\n",
       "      <td>False</td>\n",
       "      <td>Bushwick</td>\n",
       "      <td>Private room</td>\n",
       "      <td>1.0</td>\n",
       "      <td>40.69745</td>\n",
       "      <td>-73.93038</td>\n",
       "      <td>27.027027</td>\n",
       "      <td>89.0</td>\n",
       "      <td>20.0</td>\n",
       "      <td>2.0</td>\n",
       "      <td>2019-06-29</td>\n",
       "      <td>2025-02-12 04:05:57.704</td>\n",
       "    </tr>\n",
       "    <tr>\n",
       "      <th>6</th>\n",
       "      <td>549873</td>\n",
       "      <td>True</td>\n",
       "      <td>East Village</td>\n",
       "      <td>Entire home/apt</td>\n",
       "      <td>2.0</td>\n",
       "      <td>40.72564</td>\n",
       "      <td>-73.98252</td>\n",
       "      <td>55.555556</td>\n",
       "      <td>0.0</td>\n",
       "      <td>5.0</td>\n",
       "      <td>1.0</td>\n",
       "      <td>2015-05-25</td>\n",
       "      <td>2025-02-12 04:05:57.704</td>\n",
       "    </tr>\n",
       "    <tr>\n",
       "      <th>7</th>\n",
       "      <td>28387362</td>\n",
       "      <td>False</td>\n",
       "      <td>Elmhurst</td>\n",
       "      <td>Private room</td>\n",
       "      <td>2.0</td>\n",
       "      <td>40.72946</td>\n",
       "      <td>-73.88054</td>\n",
       "      <td>10.000000</td>\n",
       "      <td>324.0</td>\n",
       "      <td>4.0</td>\n",
       "      <td>2.0</td>\n",
       "      <td>2018-10-01</td>\n",
       "      <td>2025-02-12 04:05:57.704</td>\n",
       "    </tr>\n",
       "    <tr>\n",
       "      <th>8</th>\n",
       "      <td>23797329</td>\n",
       "      <td>False</td>\n",
       "      <td>Greenpoint</td>\n",
       "      <td>Shared room</td>\n",
       "      <td>14.0</td>\n",
       "      <td>40.72104</td>\n",
       "      <td>-73.93985</td>\n",
       "      <td>15.789474</td>\n",
       "      <td>365.0</td>\n",
       "      <td>3.0</td>\n",
       "      <td>10.0</td>\n",
       "      <td>2018-08-01</td>\n",
       "      <td>2025-02-12 04:05:57.704</td>\n",
       "    </tr>\n",
       "    <tr>\n",
       "      <th>9</th>\n",
       "      <td>2134052</td>\n",
       "      <td>True</td>\n",
       "      <td>Chelsea</td>\n",
       "      <td>Entire home/apt</td>\n",
       "      <td>3.0</td>\n",
       "      <td>40.74193</td>\n",
       "      <td>-74.00170</td>\n",
       "      <td>63.888889</td>\n",
       "      <td>0.0</td>\n",
       "      <td>23.0</td>\n",
       "      <td>1.0</td>\n",
       "      <td>2015-12-06</td>\n",
       "      <td>2025-02-12 04:05:57.704</td>\n",
       "    </tr>\n",
       "  </tbody>\n",
       "</table>\n",
       "</div>"
      ],
      "text/plain": [
       "         id  is_manhattan     neighbourhood        room_type  minimum_nights  \\\n",
       "0  23075778          True      East Village  Entire home/apt             2.0   \n",
       "1  29513000          True          Gramercy  Entire home/apt             5.0   \n",
       "2   1886240          True              SoHo  Entire home/apt             1.0   \n",
       "3  19970764          True   Lower East Side  Entire home/apt             1.0   \n",
       "4  30388011          True  Theater District  Entire home/apt            14.0   \n",
       "5  18190894         False          Bushwick     Private room             1.0   \n",
       "6    549873          True      East Village  Entire home/apt             2.0   \n",
       "7  28387362         False          Elmhurst     Private room             2.0   \n",
       "8  23797329         False        Greenpoint      Shared room            14.0   \n",
       "9   2134052          True           Chelsea  Entire home/apt             3.0   \n",
       "\n",
       "   latitude  longitude  estimated_listed_months  availability_365  \\\n",
       "0  40.72629  -73.98417                16.806723               2.0   \n",
       "1  40.73670  -73.98985                 8.333333             145.0   \n",
       "2  40.72617  -74.00141                      NaN               0.0   \n",
       "3  40.72337  -73.99057                 4.761905             352.0   \n",
       "4  40.75988  -73.98568                      NaN             341.0   \n",
       "5  40.69745  -73.93038                27.027027              89.0   \n",
       "6  40.72564  -73.98252                55.555556               0.0   \n",
       "7  40.72946  -73.88054                10.000000             324.0   \n",
       "8  40.72104  -73.93985                15.789474             365.0   \n",
       "9  40.74193  -74.00170                63.888889               0.0   \n",
       "\n",
       "   number_of_reviews  calculated_host_listings_count last_review  \\\n",
       "0               20.0                             1.0  2019-06-16   \n",
       "1               28.0                             1.0  2019-06-19   \n",
       "2                0.0                             1.0         NaT   \n",
       "3                3.0                             3.0  2019-05-05   \n",
       "4                0.0                           232.0         NaT   \n",
       "5               20.0                             2.0  2019-06-29   \n",
       "6                5.0                             1.0  2015-05-25   \n",
       "7                4.0                             2.0  2018-10-01   \n",
       "8                3.0                            10.0  2018-08-01   \n",
       "9               23.0                             1.0  2015-12-06   \n",
       "\n",
       "     update_timestamp_utc  \n",
       "0 2025-02-12 04:05:57.704  \n",
       "1 2025-02-12 04:05:57.704  \n",
       "2 2025-02-12 04:05:57.704  \n",
       "3 2025-02-12 04:05:57.704  \n",
       "4 2025-02-12 04:05:57.704  \n",
       "5 2025-02-12 04:05:57.704  \n",
       "6 2025-02-12 04:05:57.704  \n",
       "7 2025-02-12 04:05:57.704  \n",
       "8 2025-02-12 04:05:57.704  \n",
       "9 2025-02-12 04:05:57.704  "
      ]
     },
     "execution_count": 15,
     "metadata": {},
     "output_type": "execute_result"
    }
   ],
   "source": [
    "X_test = test_set.drop(config.model.TARGET).limit(10).toPandas()\n",
    "X_test"
   ]
  },
  {
   "cell_type": "code",
   "execution_count": 16,
   "metadata": {},
   "outputs": [
    {
     "name": "stderr",
     "output_type": "stream",
     "text": [
      "2025-02-16 21:53:02,486 - airbnb_listing - INFO - 🔄 Loading model from MLflow alias 'latest-model'...\n",
      "INFO:airbnb_listing:🔄 Loading model from MLflow alias 'latest-model'...\n",
      "INFO:airbnb_listing:🔄 Loading model from MLflow alias 'latest-model'...\n",
      "2025-02-16 21:53:03,539 - airbnb_listing - INFO - ✅ Model successfully loaded.\n",
      "INFO:airbnb_listing:✅ Model successfully loaded.\n"
     ]
    }
   ],
   "source": [
    "predictions_df = basic_model.load_latest_model_and_predict(X_test)"
   ]
  },
  {
   "cell_type": "code",
   "execution_count": 17,
   "metadata": {},
   "outputs": [
    {
     "data": {
      "text/plain": [
       "array([5.14894246, 5.59164465, 5.51052038, 5.71519618, 5.55721253,\n",
       "       4.21121894, 5.17172854, 4.13208999, 3.56902393, 5.31133469])"
      ]
     },
     "execution_count": 17,
     "metadata": {},
     "output_type": "execute_result"
    }
   ],
   "source": [
    "predictions_df"
   ]
  },
  {
   "cell_type": "code",
   "execution_count": null,
   "metadata": {},
   "outputs": [],
   "source": []
  }
 ],
 "metadata": {
  "kernelspec": {
   "display_name": ".venv",
   "language": "python",
   "name": "python3"
  },
  "language_info": {
   "codemirror_mode": {
    "name": "ipython",
    "version": 3
   },
   "file_extension": ".py",
   "mimetype": "text/x-python",
   "name": "python",
   "nbconvert_exporter": "python",
   "pygments_lexer": "ipython3",
   "version": "3.11.0"
  }
 },
 "nbformat": 4,
 "nbformat_minor": 2
}
