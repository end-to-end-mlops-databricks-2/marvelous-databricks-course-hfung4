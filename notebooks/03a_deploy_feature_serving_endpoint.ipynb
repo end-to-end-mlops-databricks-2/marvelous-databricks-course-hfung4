{
 "cells": [
  {
   "cell_type": "code",
   "execution_count": 0,
   "metadata": {
    "application/vnd.databricks.v1+cell": {
     "cellMetadata": {
      "byteLimit": 2048000,
      "rowLimit": 10000
     },
     "inputWidgets": {},
     "nuid": "7445a137-2dfd-4383-8bdf-3f372a3766e1",
     "showTitle": false,
     "tableResultSettingsMap": {},
     "title": ""
    }
   },
   "outputs": [
    {
     "name": "stdout",
     "output_type": "stream",
     "text": [
      "Collecting mlflow==2.17.0\n",
      "  Obtaining dependency information for mlflow==2.17.0 from https://files.pythonhosted.org/packages/bd/af/fdf92ad9f654f2210f225a56b4d45698f6f171d69c1195461b9fa18c5543/mlflow-2.17.0-py3-none-any.whl.metadata\n",
      "  Using cached mlflow-2.17.0-py3-none-any.whl.metadata (29 kB)\n",
      "Collecting mlflow-skinny==2.17.0 (from mlflow==2.17.0)\n",
      "  Obtaining dependency information for mlflow-skinny==2.17.0 from https://files.pythonhosted.org/packages/a3/35/2821869a7c78e50148e460406834c4d8aa863d361b7084a8e923f18be474/mlflow_skinny-2.17.0-py3-none-any.whl.metadata\n",
      "  Using cached mlflow_skinny-2.17.0-py3-none-any.whl.metadata (30 kB)\n",
      "Collecting Flask<4 (from mlflow==2.17.0)\n",
      "  Obtaining dependency information for Flask<4 from https://files.pythonhosted.org/packages/af/47/93213ee66ef8fae3b93b3e29206f6b251e65c97bd91d8e1c5596ef15af0a/flask-3.1.0-py3-none-any.whl.metadata\n",
      "  Using cached flask-3.1.0-py3-none-any.whl.metadata (2.7 kB)\n",
      "Collecting alembic!=1.10.0,<2 (from mlflow==2.17.0)\n",
      "  Obtaining dependency information for alembic!=1.10.0,<2 from https://files.pythonhosted.org/packages/54/7e/ac0991d1745f7d755fc1cd381b3990a45b404b4d008fc75e2a983516fbfe/alembic-1.14.1-py3-none-any.whl.metadata\n",
      "  Using cached alembic-1.14.1-py3-none-any.whl.metadata (7.4 kB)\n",
      "Collecting docker<8,>=4.0.0 (from mlflow==2.17.0)\n",
      "  Obtaining dependency information for docker<8,>=4.0.0 from https://files.pythonhosted.org/packages/e3/26/57c6fb270950d476074c087527a558ccb6f4436657314bfb6cdf484114c4/docker-7.1.0-py3-none-any.whl.metadata\n",
      "  Using cached docker-7.1.0-py3-none-any.whl.metadata (3.8 kB)\n",
      "Collecting graphene<4 (from mlflow==2.17.0)\n",
      "  Obtaining dependency information for graphene<4 from https://files.pythonhosted.org/packages/66/e0/61d8e98007182e6b2aca7cf65904721fb2e4bce0192272ab9cb6f69d8812/graphene-3.4.3-py2.py3-none-any.whl.metadata\n",
      "  Using cached graphene-3.4.3-py2.py3-none-any.whl.metadata (6.9 kB)\n",
      "Collecting markdown<4,>=3.3 (from mlflow==2.17.0)\n",
      "  Obtaining dependency information for markdown<4,>=3.3 from https://files.pythonhosted.org/packages/3f/08/83871f3c50fc983b88547c196d11cf8c3340e37c32d2e9d6152abe2c61f7/Markdown-3.7-py3-none-any.whl.metadata\n",
      "  Using cached Markdown-3.7-py3-none-any.whl.metadata (7.0 kB)\n",
      "Requirement already satisfied: matplotlib<4 in /databricks/python3/lib/python3.11/site-packages (from mlflow==2.17.0) (3.7.2)\n",
      "Requirement already satisfied: numpy<3 in /databricks/python3/lib/python3.11/site-packages (from mlflow==2.17.0) (1.23.5)\n",
      "Requirement already satisfied: pandas<3 in /databricks/python3/lib/python3.11/site-packages (from mlflow==2.17.0) (1.5.3)\n",
      "Requirement already satisfied: pyarrow<18,>=4.0.0 in /databricks/python3/lib/python3.11/site-packages (from mlflow==2.17.0) (14.0.1)\n",
      "Requirement already satisfied: scikit-learn<2 in /databricks/python3/lib/python3.11/site-packages (from mlflow==2.17.0) (1.3.0)\n",
      "Requirement already satisfied: scipy<2 in /databricks/python3/lib/python3.11/site-packages (from mlflow==2.17.0) (1.11.1)\n",
      "Collecting sqlalchemy<3,>=1.4.0 (from mlflow==2.17.0)\n",
      "  Obtaining dependency information for sqlalchemy<3,>=1.4.0 from https://files.pythonhosted.org/packages/77/41/94a558d47bffae5a361b0cfb3721324ea4154829dd5432f80bd4cfeecbc9/SQLAlchemy-2.0.38-cp311-cp311-manylinux_2_17_x86_64.manylinux2014_x86_64.whl.metadata\n",
      "  Using cached SQLAlchemy-2.0.38-cp311-cp311-manylinux_2_17_x86_64.manylinux2014_x86_64.whl.metadata (9.6 kB)\n",
      "Collecting Jinja2<4,>=2.11 (from mlflow==2.17.0)\n",
      "  Obtaining dependency information for Jinja2<4,>=2.11 from https://files.pythonhosted.org/packages/bd/0f/2ba5fbcd631e3e88689309dbe978c5769e883e4b84ebfe7da30b43275c5a/jinja2-3.1.5-py3-none-any.whl.metadata\n",
      "  Using cached jinja2-3.1.5-py3-none-any.whl.metadata (2.6 kB)\n",
      "Collecting gunicorn<24 (from mlflow==2.17.0)\n",
      "  Obtaining dependency information for gunicorn<24 from https://files.pythonhosted.org/packages/cb/7d/6dac2a6e1eba33ee43f318edbed4ff29151a49b5d37f080aad1e6469bca4/gunicorn-23.0.0-py3-none-any.whl.metadata\n",
      "  Using cached gunicorn-23.0.0-py3-none-any.whl.metadata (4.4 kB)\n",
      "Requirement already satisfied: cachetools<6,>=5.0.0 in /databricks/python3/lib/python3.11/site-packages (from mlflow-skinny==2.17.0->mlflow==2.17.0) (5.3.3)\n",
      "Requirement already satisfied: click<9,>=7.0 in /databricks/python3/lib/python3.11/site-packages (from mlflow-skinny==2.17.0->mlflow==2.17.0) (8.0.4)\n",
      "Requirement already satisfied: cloudpickle<4 in /databricks/python3/lib/python3.11/site-packages (from mlflow-skinny==2.17.0->mlflow==2.17.0) (2.2.1)\n",
      "Requirement already satisfied: databricks-sdk<1,>=0.20.0 in /databricks/python3/lib/python3.11/site-packages (from mlflow-skinny==2.17.0->mlflow==2.17.0) (0.20.0)\n",
      "Requirement already satisfied: gitpython<4,>=3.1.9 in /databricks/python3/lib/python3.11/site-packages (from mlflow-skinny==2.17.0->mlflow==2.17.0) (3.1.43)\n",
      "Requirement already satisfied: importlib-metadata!=4.7.0,<9,>=3.7.0 in /databricks/python3/lib/python3.11/site-packages (from mlflow-skinny==2.17.0->mlflow==2.17.0) (6.0.0)\n",
      "Collecting opentelemetry-api<3,>=1.9.0 (from mlflow-skinny==2.17.0->mlflow==2.17.0)\n",
      "  Obtaining dependency information for opentelemetry-api<3,>=1.9.0 from https://files.pythonhosted.org/packages/36/0a/eea862fae6413d8181b23acf8e13489c90a45f17986ee9cf4eab8a0b9ad9/opentelemetry_api-1.30.0-py3-none-any.whl.metadata\n",
      "  Using cached opentelemetry_api-1.30.0-py3-none-any.whl.metadata (1.6 kB)\n",
      "Collecting opentelemetry-sdk<3,>=1.9.0 (from mlflow-skinny==2.17.0->mlflow==2.17.0)\n",
      "  Obtaining dependency information for opentelemetry-sdk<3,>=1.9.0 from https://files.pythonhosted.org/packages/97/28/64d781d6adc6bda2260067ce2902bd030cf45aec657e02e28c5b4480b976/opentelemetry_sdk-1.30.0-py3-none-any.whl.metadata\n",
      "  Using cached opentelemetry_sdk-1.30.0-py3-none-any.whl.metadata (1.6 kB)\n",
      "Requirement already satisfied: packaging<25 in /databricks/python3/lib/python3.11/site-packages (from mlflow-skinny==2.17.0->mlflow==2.17.0) (23.2)\n",
      "Requirement already satisfied: protobuf<6,>=3.12.0 in /databricks/python3/lib/python3.11/site-packages (from mlflow-skinny==2.17.0->mlflow==2.17.0) (4.24.1)\n",
      "Requirement already satisfied: pyyaml<7,>=5.1 in /databricks/python3/lib/python3.11/site-packages (from mlflow-skinny==2.17.0->mlflow==2.17.0) (6.0)\n",
      "Requirement already satisfied: requests<3,>=2.17.3 in /databricks/python3/lib/python3.11/site-packages (from mlflow-skinny==2.17.0->mlflow==2.17.0) (2.31.0)\n",
      "Requirement already satisfied: sqlparse<1,>=0.4.0 in /databricks/python3/lib/python3.11/site-packages (from mlflow-skinny==2.17.0->mlflow==2.17.0) (0.5.0)\n",
      "Collecting Mako (from alembic!=1.10.0,<2->mlflow==2.17.0)\n",
      "  Obtaining dependency information for Mako from https://files.pythonhosted.org/packages/cd/83/de0a49e7de540513f53ab5d2e105321dedeb08a8f5850f0208decf4390ec/Mako-1.3.9-py3-none-any.whl.metadata\n",
      "  Using cached Mako-1.3.9-py3-none-any.whl.metadata (2.9 kB)\n",
      "Requirement already satisfied: typing-extensions>=4 in /databricks/python3/lib/python3.11/site-packages (from alembic!=1.10.0,<2->mlflow==2.17.0) (4.10.0)\n",
      "Requirement already satisfied: urllib3>=1.26.0 in /databricks/python3/lib/python3.11/site-packages (from docker<8,>=4.0.0->mlflow==2.17.0) (1.26.16)\n",
      "Collecting Werkzeug>=3.1 (from Flask<4->mlflow==2.17.0)\n",
      "  Obtaining dependency information for Werkzeug>=3.1 from https://files.pythonhosted.org/packages/52/24/ab44c871b0f07f491e5d2ad12c9bd7358e527510618cb1b803a88e986db1/werkzeug-3.1.3-py3-none-any.whl.metadata\n",
      "  Using cached werkzeug-3.1.3-py3-none-any.whl.metadata (3.7 kB)\n",
      "Collecting itsdangerous>=2.2 (from Flask<4->mlflow==2.17.0)\n",
      "  Obtaining dependency information for itsdangerous>=2.2 from https://files.pythonhosted.org/packages/04/96/92447566d16df59b2a776c0fb82dbc4d9e07cd95062562af01e408583fc4/itsdangerous-2.2.0-py3-none-any.whl.metadata\n",
      "  Using cached itsdangerous-2.2.0-py3-none-any.whl.metadata (1.9 kB)\n",
      "Collecting click<9,>=7.0 (from mlflow-skinny==2.17.0->mlflow==2.17.0)\n",
      "  Obtaining dependency information for click<9,>=7.0 from https://files.pythonhosted.org/packages/7e/d4/7ebdbd03970677812aac39c869717059dbb71a4cfc033ca6e5221787892c/click-8.1.8-py3-none-any.whl.metadata\n",
      "  Using cached click-8.1.8-py3-none-any.whl.metadata (2.3 kB)\n",
      "Collecting blinker>=1.9 (from Flask<4->mlflow==2.17.0)\n",
      "  Obtaining dependency information for blinker>=1.9 from https://files.pythonhosted.org/packages/10/cb/f2ad4230dc2eb1a74edf38f1a38b9b52277f75bef262d8908e60d957e13c/blinker-1.9.0-py3-none-any.whl.metadata\n",
      "  Using cached blinker-1.9.0-py3-none-any.whl.metadata (1.6 kB)\n",
      "Collecting graphql-core<3.3,>=3.1 (from graphene<4->mlflow==2.17.0)\n",
      "  Obtaining dependency information for graphql-core<3.3,>=3.1 from https://files.pythonhosted.org/packages/ae/4f/7297663840621022bc73c22d7d9d80dbc78b4db6297f764b545cd5dd462d/graphql_core-3.2.6-py3-none-any.whl.metadata\n",
      "  Using cached graphql_core-3.2.6-py3-none-any.whl.metadata (11 kB)\n",
      "Collecting graphql-relay<3.3,>=3.1 (from graphene<4->mlflow==2.17.0)\n",
      "  Obtaining dependency information for graphql-relay<3.3,>=3.1 from https://files.pythonhosted.org/packages/74/16/a4cf06adbc711bd364a73ce043b0b08d8fa5aae3df11b6ee4248bcdad2e0/graphql_relay-3.2.0-py3-none-any.whl.metadata\n",
      "  Using cached graphql_relay-3.2.0-py3-none-any.whl.metadata (12 kB)\n",
      "Requirement already satisfied: python-dateutil<3,>=2.7.0 in /databricks/python3/lib/python3.11/site-packages (from graphene<4->mlflow==2.17.0) (2.8.2)\n",
      "Collecting MarkupSafe>=2.0 (from Jinja2<4,>=2.11->mlflow==2.17.0)\n",
      "  Obtaining dependency information for MarkupSafe>=2.0 from https://files.pythonhosted.org/packages/f1/a4/aefb044a2cd8d7334c8a47d3fb2c9f328ac48cb349468cc31c20b539305f/MarkupSafe-3.0.2-cp311-cp311-manylinux_2_17_x86_64.manylinux2014_x86_64.whl.metadata\n",
      "  Using cached MarkupSafe-3.0.2-cp311-cp311-manylinux_2_17_x86_64.manylinux2014_x86_64.whl.metadata (4.0 kB)\n",
      "Requirement already satisfied: contourpy>=1.0.1 in /databricks/python3/lib/python3.11/site-packages (from matplotlib<4->mlflow==2.17.0) (1.0.5)\n",
      "Requirement already satisfied: cycler>=0.10 in /databricks/python3/lib/python3.11/site-packages (from matplotlib<4->mlflow==2.17.0) (0.11.0)\n",
      "Requirement already satisfied: fonttools>=4.22.0 in /databricks/python3/lib/python3.11/site-packages (from matplotlib<4->mlflow==2.17.0) (4.25.0)\n",
      "Requirement already satisfied: kiwisolver>=1.0.1 in /databricks/python3/lib/python3.11/site-packages (from matplotlib<4->mlflow==2.17.0) (1.4.4)\n",
      "Requirement already satisfied: pillow>=6.2.0 in /databricks/python3/lib/python3.11/site-packages (from matplotlib<4->mlflow==2.17.0) (9.4.0)\n",
      "Requirement already satisfied: pyparsing<3.1,>=2.3.1 in /databricks/python3/lib/python3.11/site-packages (from matplotlib<4->mlflow==2.17.0) (3.0.9)\n",
      "Requirement already satisfied: pytz>=2020.1 in /databricks/python3/lib/python3.11/site-packages (from pandas<3->mlflow==2.17.0) (2022.7)\n",
      "Requirement already satisfied: joblib>=1.1.1 in /databricks/python3/lib/python3.11/site-packages (from scikit-learn<2->mlflow==2.17.0) (1.2.0)\n",
      "Requirement already satisfied: threadpoolctl>=2.0.0 in /databricks/python3/lib/python3.11/site-packages (from scikit-learn<2->mlflow==2.17.0) (2.2.0)\n",
      "Collecting greenlet!=0.4.17 (from sqlalchemy<3,>=1.4.0->mlflow==2.17.0)\n",
      "  Obtaining dependency information for greenlet!=0.4.17 from https://files.pythonhosted.org/packages/f7/4b/1c9695aa24f808e156c8f4813f685d975ca73c000c2a5056c514c64980f6/greenlet-3.1.1-cp311-cp311-manylinux_2_24_x86_64.manylinux_2_28_x86_64.whl.metadata\n",
      "  Using cached greenlet-3.1.1-cp311-cp311-manylinux_2_24_x86_64.manylinux_2_28_x86_64.whl.metadata (3.8 kB)\n",
      "Requirement already satisfied: google-auth~=2.0 in /databricks/python3/lib/python3.11/site-packages (from databricks-sdk<1,>=0.20.0->mlflow-skinny==2.17.0->mlflow==2.17.0) (2.31.0)\n",
      "Requirement already satisfied: gitdb<5,>=4.0.1 in /databricks/python3/lib/python3.11/site-packages (from gitpython<4,>=3.1.9->mlflow-skinny==2.17.0->mlflow==2.17.0) (4.0.11)\n",
      "Requirement already satisfied: zipp>=0.5 in /databricks/python3/lib/python3.11/site-packages (from importlib-metadata!=4.7.0,<9,>=3.7.0->mlflow-skinny==2.17.0->mlflow==2.17.0) (3.11.0)\n",
      "Collecting deprecated>=1.2.6 (from opentelemetry-api<3,>=1.9.0->mlflow-skinny==2.17.0->mlflow==2.17.0)\n",
      "  Obtaining dependency information for deprecated>=1.2.6 from https://files.pythonhosted.org/packages/6e/c6/ac0b6c1e2d138f1002bcf799d330bd6d85084fece321e662a14223794041/Deprecated-1.2.18-py2.py3-none-any.whl.metadata\n",
      "  Using cached Deprecated-1.2.18-py2.py3-none-any.whl.metadata (5.7 kB)\n",
      "Collecting opentelemetry-semantic-conventions==0.51b0 (from opentelemetry-sdk<3,>=1.9.0->mlflow-skinny==2.17.0->mlflow==2.17.0)\n",
      "  Obtaining dependency information for opentelemetry-semantic-conventions==0.51b0 from https://files.pythonhosted.org/packages/2e/75/d7bdbb6fd8630b4cafb883482b75c4fc276b6426619539d266e32ac53266/opentelemetry_semantic_conventions-0.51b0-py3-none-any.whl.metadata\n",
      "  Using cached opentelemetry_semantic_conventions-0.51b0-py3-none-any.whl.metadata (2.5 kB)\n",
      "Requirement already satisfied: six>=1.5 in /usr/lib/python3/dist-packages (from python-dateutil<3,>=2.7.0->graphene<4->mlflow==2.17.0) (1.16.0)\n",
      "Requirement already satisfied: charset-normalizer<4,>=2 in /databricks/python3/lib/python3.11/site-packages (from requests<3,>=2.17.3->mlflow-skinny==2.17.0->mlflow==2.17.0) (2.0.4)\n",
      "Requirement already satisfied: idna<4,>=2.5 in /databricks/python3/lib/python3.11/site-packages (from requests<3,>=2.17.3->mlflow-skinny==2.17.0->mlflow==2.17.0) (3.4)\n",
      "Requirement already satisfied: certifi>=2017.4.17 in /databricks/python3/lib/python3.11/site-packages (from requests<3,>=2.17.3->mlflow-skinny==2.17.0->mlflow==2.17.0) (2023.7.22)\n",
      "Collecting wrapt<2,>=1.10 (from deprecated>=1.2.6->opentelemetry-api<3,>=1.9.0->mlflow-skinny==2.17.0->mlflow==2.17.0)\n",
      "  Obtaining dependency information for wrapt<2,>=1.10 from https://files.pythonhosted.org/packages/b4/b0/9fc566b0fe08b282c850063591a756057c3247b2362b9286429ec5bf1721/wrapt-1.17.2-cp311-cp311-manylinux_2_5_x86_64.manylinux1_x86_64.manylinux_2_17_x86_64.manylinux2014_x86_64.whl.metadata\n",
      "  Using cached wrapt-1.17.2-cp311-cp311-manylinux_2_5_x86_64.manylinux1_x86_64.manylinux_2_17_x86_64.manylinux2014_x86_64.whl.metadata (6.4 kB)\n",
      "Requirement already satisfied: smmap<6,>=3.0.1 in /databricks/python3/lib/python3.11/site-packages (from gitdb<5,>=4.0.1->gitpython<4,>=3.1.9->mlflow-skinny==2.17.0->mlflow==2.17.0) (5.0.1)\n",
      "Requirement already satisfied: pyasn1-modules>=0.2.1 in /databricks/python3/lib/python3.11/site-packages (from google-auth~=2.0->databricks-sdk<1,>=0.20.0->mlflow-skinny==2.17.0->mlflow==2.17.0) (0.2.8)\n",
      "Requirement already satisfied: rsa<5,>=3.1.4 in /databricks/python3/lib/python3.11/site-packages (from google-auth~=2.0->databricks-sdk<1,>=0.20.0->mlflow-skinny==2.17.0->mlflow==2.17.0) (4.9)\n",
      "Requirement already satisfied: pyasn1<0.5.0,>=0.4.6 in /databricks/python3/lib/python3.11/site-packages (from pyasn1-modules>=0.2.1->google-auth~=2.0->databricks-sdk<1,>=0.20.0->mlflow-skinny==2.17.0->mlflow==2.17.0) (0.4.8)\n",
      "Using cached mlflow-2.17.0-py3-none-any.whl (26.7 MB)\n",
      "Using cached mlflow_skinny-2.17.0-py3-none-any.whl (5.7 MB)\n",
      "Using cached alembic-1.14.1-py3-none-any.whl (233 kB)\n",
      "Using cached docker-7.1.0-py3-none-any.whl (147 kB)\n",
      "Using cached flask-3.1.0-py3-none-any.whl (102 kB)\n",
      "Using cached graphene-3.4.3-py2.py3-none-any.whl (114 kB)\n",
      "Using cached gunicorn-23.0.0-py3-none-any.whl (85 kB)\n",
      "Using cached jinja2-3.1.5-py3-none-any.whl (134 kB)\n",
      "Using cached Markdown-3.7-py3-none-any.whl (106 kB)\n",
      "Using cached SQLAlchemy-2.0.38-cp311-cp311-manylinux_2_17_x86_64.manylinux2014_x86_64.whl (3.2 MB)\n",
      "Using cached blinker-1.9.0-py3-none-any.whl (8.5 kB)\n",
      "Using cached click-8.1.8-py3-none-any.whl (98 kB)\n",
      "Using cached graphql_core-3.2.6-py3-none-any.whl (203 kB)\n",
      "Using cached graphql_relay-3.2.0-py3-none-any.whl (16 kB)\n",
      "Using cached greenlet-3.1.1-cp311-cp311-manylinux_2_24_x86_64.manylinux_2_28_x86_64.whl (602 kB)\n",
      "Using cached itsdangerous-2.2.0-py3-none-any.whl (16 kB)\n",
      "Using cached MarkupSafe-3.0.2-cp311-cp311-manylinux_2_17_x86_64.manylinux2014_x86_64.whl (23 kB)\n",
      "Using cached opentelemetry_api-1.30.0-py3-none-any.whl (64 kB)\n",
      "Using cached opentelemetry_sdk-1.30.0-py3-none-any.whl (118 kB)\n",
      "Using cached opentelemetry_semantic_conventions-0.51b0-py3-none-any.whl (177 kB)\n",
      "Using cached werkzeug-3.1.3-py3-none-any.whl (224 kB)\n",
      "Using cached Mako-1.3.9-py3-none-any.whl (78 kB)\n",
      "Using cached Deprecated-1.2.18-py2.py3-none-any.whl (10.0 kB)\n",
      "Using cached wrapt-1.17.2-cp311-cp311-manylinux_2_5_x86_64.manylinux1_x86_64.manylinux_2_17_x86_64.manylinux2014_x86_64.whl (83 kB)\n",
      "Installing collected packages: wrapt, MarkupSafe, markdown, itsdangerous, gunicorn, greenlet, graphql-core, click, blinker, Werkzeug, sqlalchemy, Mako, Jinja2, graphql-relay, docker, deprecated, opentelemetry-api, graphene, Flask, alembic, opentelemetry-semantic-conventions, opentelemetry-sdk, mlflow-skinny, mlflow\n",
      "  Attempting uninstall: click\n",
      "    Found existing installation: click 8.0.4\n",
      "    Not uninstalling click at /databricks/python3/lib/python3.11/site-packages, outside environment /local_disk0/.ephemeral_nfs/envs/pythonEnv-0fb5c216-6dc6-418e-a223-69ee6a2ca2a1\n",
      "    Can't uninstall 'click'. No files were found to uninstall.\n",
      "  Attempting uninstall: blinker\n",
      "    Found existing installation: blinker 1.4\n",
      "    Not uninstalling blinker at /usr/lib/python3/dist-packages, outside environment /local_disk0/.ephemeral_nfs/envs/pythonEnv-0fb5c216-6dc6-418e-a223-69ee6a2ca2a1\n",
      "    Can't uninstall 'blinker'. No files were found to uninstall.\n",
      "  Attempting uninstall: mlflow-skinny\n",
      "    Found existing installation: mlflow-skinny 2.11.4\n",
      "    Not uninstalling mlflow-skinny at /databricks/python3/lib/python3.11/site-packages, outside environment /local_disk0/.ephemeral_nfs/envs/pythonEnv-0fb5c216-6dc6-418e-a223-69ee6a2ca2a1\n",
      "    Can't uninstall 'mlflow-skinny'. No files were found to uninstall.\n",
      "Successfully installed Flask-3.1.0 Jinja2-3.1.5 Mako-1.3.9 MarkupSafe-3.0.2 Werkzeug-3.1.3 alembic-1.14.1 blinker-1.9.0 click-8.1.8 deprecated-1.2.18 docker-7.1.0 graphene-3.4.3 graphql-core-3.2.6 graphql-relay-3.2.0 greenlet-3.1.1 gunicorn-23.0.0 itsdangerous-2.2.0 markdown-3.7 mlflow-2.17.0 mlflow-skinny-2.17.0 opentelemetry-api-1.30.0 opentelemetry-sdk-1.30.0 opentelemetry-semantic-conventions-0.51b0 sqlalchemy-2.0.38 wrapt-1.17.2\n",
      "\u001b[43mNote: you may need to restart the kernel using %restart_python or dbutils.library.restartPython() to use updated packages.\u001b[0m\n"
     ]
    }
   ],
   "source": [
    "%pip install mlflow==2.17.0"
   ]
  },
  {
   "cell_type": "code",
   "execution_count": 0,
   "metadata": {
    "application/vnd.databricks.v1+cell": {
     "cellMetadata": {
      "byteLimit": 2048000,
      "rowLimit": 10000
     },
     "inputWidgets": {},
     "nuid": "5a06b477-8a41-4bf9-a4d5-f39178100f43",
     "showTitle": false,
     "tableResultSettingsMap": {},
     "title": ""
    }
   },
   "outputs": [
    {
     "name": "stdout",
     "output_type": "stream",
     "text": [
      "Collecting scikit-learn==1.5.2\n",
      "  Obtaining dependency information for scikit-learn==1.5.2 from https://files.pythonhosted.org/packages/49/21/3723de321531c9745e40f1badafd821e029d346155b6c79704e0b7197552/scikit_learn-1.5.2-cp311-cp311-manylinux_2_17_x86_64.manylinux2014_x86_64.whl.metadata\n",
      "  Using cached scikit_learn-1.5.2-cp311-cp311-manylinux_2_17_x86_64.manylinux2014_x86_64.whl.metadata (13 kB)\n",
      "Requirement already satisfied: numpy>=1.19.5 in /databricks/python3/lib/python3.11/site-packages (from scikit-learn==1.5.2) (1.23.5)\n",
      "Requirement already satisfied: scipy>=1.6.0 in /databricks/python3/lib/python3.11/site-packages (from scikit-learn==1.5.2) (1.11.1)\n",
      "Requirement already satisfied: joblib>=1.2.0 in /databricks/python3/lib/python3.11/site-packages (from scikit-learn==1.5.2) (1.2.0)\n",
      "Collecting threadpoolctl>=3.1.0 (from scikit-learn==1.5.2)\n",
      "  Obtaining dependency information for threadpoolctl>=3.1.0 from https://files.pythonhosted.org/packages/4b/2c/ffbf7a134b9ab11a67b0cf0726453cedd9c5043a4fe7a35d1cefa9a1bcfb/threadpoolctl-3.5.0-py3-none-any.whl.metadata\n",
      "  Using cached threadpoolctl-3.5.0-py3-none-any.whl.metadata (13 kB)\n",
      "Using cached scikit_learn-1.5.2-cp311-cp311-manylinux_2_17_x86_64.manylinux2014_x86_64.whl (13.3 MB)\n",
      "Using cached threadpoolctl-3.5.0-py3-none-any.whl (18 kB)\n",
      "Installing collected packages: threadpoolctl, scikit-learn\n",
      "  Attempting uninstall: threadpoolctl\n",
      "    Found existing installation: threadpoolctl 2.2.0\n",
      "    Not uninstalling threadpoolctl at /databricks/python3/lib/python3.11/site-packages, outside environment /local_disk0/.ephemeral_nfs/envs/pythonEnv-0fb5c216-6dc6-418e-a223-69ee6a2ca2a1\n",
      "    Can't uninstall 'threadpoolctl'. No files were found to uninstall.\n",
      "  Attempting uninstall: scikit-learn\n",
      "    Found existing installation: scikit-learn 1.3.0\n",
      "    Not uninstalling scikit-learn at /databricks/python3/lib/python3.11/site-packages, outside environment /local_disk0/.ephemeral_nfs/envs/pythonEnv-0fb5c216-6dc6-418e-a223-69ee6a2ca2a1\n",
      "    Can't uninstall 'scikit-learn'. No files were found to uninstall.\n",
      "Successfully installed scikit-learn-1.5.2 threadpoolctl-3.5.0\n",
      "\u001b[43mNote: you may need to restart the kernel using %restart_python or dbutils.library.restartPython() to use updated packages.\u001b[0m\n"
     ]
    }
   ],
   "source": [
    "%pip install scikit-learn==1.5.2"
   ]
  },
  {
   "cell_type": "code",
   "execution_count": 0,
   "metadata": {
    "application/vnd.databricks.v1+cell": {
     "cellMetadata": {
      "byteLimit": 2048000,
      "rowLimit": 10000
     },
     "inputWidgets": {},
     "nuid": "e422d10a-2eb8-47fa-a77a-d570318ca750",
     "showTitle": false,
     "tableResultSettingsMap": {},
     "title": ""
    }
   },
   "outputs": [
    {
     "name": "stdout",
     "output_type": "stream",
     "text": [
      "Collecting databricks-feature-engineering==0.6\n",
      "  Obtaining dependency information for databricks-feature-engineering==0.6 from https://files.pythonhosted.org/packages/ae/73/ab301d1b538014c91fc4481b7e13c374cc60dd2cb0c0ea0ebf36a3f789c6/databricks_feature_engineering-0.6.0-py3-none-any.whl.metadata\n",
      "  Using cached databricks_feature_engineering-0.6.0-py3-none-any.whl.metadata (4.2 kB)\n",
      "Requirement already satisfied: mlflow-skinny[databricks]<3,>=2.11.0 in /local_disk0/.ephemeral_nfs/envs/pythonEnv-0fb5c216-6dc6-418e-a223-69ee6a2ca2a1/lib/python3.11/site-packages (from databricks-feature-engineering==0.6) (2.17.0)\n",
      "Requirement already satisfied: pyyaml<7,>=6 in /databricks/python3/lib/python3.11/site-packages (from databricks-feature-engineering==0.6) (6.0)\n",
      "Requirement already satisfied: boto3<2,>=1.16.7 in /databricks/python3/lib/python3.11/site-packages (from databricks-feature-engineering==0.6) (1.34.39)\n",
      "Collecting dbl-tempo<1,>=0.1.26 (from databricks-feature-engineering==0.6)\n",
      "  Obtaining dependency information for dbl-tempo<1,>=0.1.26 from https://files.pythonhosted.org/packages/1a/66/18cab25fbffe683e336add1279e7b7fc4b2d2509d56aaf782f36838df0b5/dbl_tempo-0.1.29-py3-none-any.whl.metadata\n",
      "  Using cached dbl_tempo-0.1.29-py3-none-any.whl.metadata (11 kB)\n",
      "Collecting azure-cosmos==4.3.1 (from databricks-feature-engineering==0.6)\n",
      "  Obtaining dependency information for azure-cosmos==4.3.1 from https://files.pythonhosted.org/packages/1a/e6/8fdeb60b1a5d2a9128a038056acaca64ee87a68cbe2f18dfe8a91cb4e5c2/azure_cosmos-4.3.1-py3-none-any.whl.metadata\n",
      "  Using cached azure_cosmos-4.3.1-py3-none-any.whl.metadata (52 kB)\n",
      "Requirement already satisfied: numpy<2,>=1.19.2 in /databricks/python3/lib/python3.11/site-packages (from databricks-feature-engineering==0.6) (1.23.5)\n",
      "Requirement already satisfied: protobuf<5,>=3.12.0 in /databricks/python3/lib/python3.11/site-packages (from databricks-feature-engineering==0.6) (4.24.1)\n",
      "Collecting flask<3,>=1.1.2 (from databricks-feature-engineering==0.6)\n",
      "  Obtaining dependency information for flask<3,>=1.1.2 from https://files.pythonhosted.org/packages/fd/56/26f0be8adc2b4257df20c1c4260ddd0aa396cf8e75d90ab2f7ff99bc34f9/flask-2.3.3-py3-none-any.whl.metadata\n",
      "  Using cached flask-2.3.3-py3-none-any.whl.metadata (3.6 kB)\n",
      "Requirement already satisfied: sqlparse<1,>=0.4.0 in /databricks/python3/lib/python3.11/site-packages (from databricks-feature-engineering==0.6) (0.5.0)\n",
      "Requirement already satisfied: azure-core<2.0.0,>=1.23.0 in /databricks/python3/lib/python3.11/site-packages (from azure-cosmos==4.3.1->databricks-feature-engineering==0.6) (1.30.2)\n",
      "Requirement already satisfied: botocore<1.35.0,>=1.34.39 in /databricks/python3/lib/python3.11/site-packages (from boto3<2,>=1.16.7->databricks-feature-engineering==0.6) (1.34.39)\n",
      "Requirement already satisfied: jmespath<2.0.0,>=0.7.1 in /databricks/python3/lib/python3.11/site-packages (from boto3<2,>=1.16.7->databricks-feature-engineering==0.6) (0.10.0)\n",
      "Requirement already satisfied: s3transfer<0.11.0,>=0.10.0 in /databricks/python3/lib/python3.11/site-packages (from boto3<2,>=1.16.7->databricks-feature-engineering==0.6) (0.10.2)\n",
      "Requirement already satisfied: Werkzeug>=2.3.7 in /local_disk0/.ephemeral_nfs/envs/pythonEnv-0fb5c216-6dc6-418e-a223-69ee6a2ca2a1/lib/python3.11/site-packages (from flask<3,>=1.1.2->databricks-feature-engineering==0.6) (3.1.3)\n",
      "Requirement already satisfied: Jinja2>=3.1.2 in /local_disk0/.ephemeral_nfs/envs/pythonEnv-0fb5c216-6dc6-418e-a223-69ee6a2ca2a1/lib/python3.11/site-packages (from flask<3,>=1.1.2->databricks-feature-engineering==0.6) (3.1.5)\n",
      "Requirement already satisfied: itsdangerous>=2.1.2 in /local_disk0/.ephemeral_nfs/envs/pythonEnv-0fb5c216-6dc6-418e-a223-69ee6a2ca2a1/lib/python3.11/site-packages (from flask<3,>=1.1.2->databricks-feature-engineering==0.6) (2.2.0)\n",
      "Requirement already satisfied: click>=8.1.3 in /local_disk0/.ephemeral_nfs/envs/pythonEnv-0fb5c216-6dc6-418e-a223-69ee6a2ca2a1/lib/python3.11/site-packages (from flask<3,>=1.1.2->databricks-feature-engineering==0.6) (8.1.8)\n",
      "Requirement already satisfied: blinker>=1.6.2 in /local_disk0/.ephemeral_nfs/envs/pythonEnv-0fb5c216-6dc6-418e-a223-69ee6a2ca2a1/lib/python3.11/site-packages (from flask<3,>=1.1.2->databricks-feature-engineering==0.6) (1.9.0)\n",
      "Requirement already satisfied: cachetools<6,>=5.0.0 in /databricks/python3/lib/python3.11/site-packages (from mlflow-skinny[databricks]<3,>=2.11.0->databricks-feature-engineering==0.6) (5.3.3)\n",
      "Requirement already satisfied: cloudpickle<4 in /databricks/python3/lib/python3.11/site-packages (from mlflow-skinny[databricks]<3,>=2.11.0->databricks-feature-engineering==0.6) (2.2.1)\n",
      "Requirement already satisfied: databricks-sdk<1,>=0.20.0 in /databricks/python3/lib/python3.11/site-packages (from mlflow-skinny[databricks]<3,>=2.11.0->databricks-feature-engineering==0.6) (0.20.0)\n",
      "Requirement already satisfied: gitpython<4,>=3.1.9 in /databricks/python3/lib/python3.11/site-packages (from mlflow-skinny[databricks]<3,>=2.11.0->databricks-feature-engineering==0.6) (3.1.43)\n",
      "Requirement already satisfied: importlib-metadata!=4.7.0,<9,>=3.7.0 in /databricks/python3/lib/python3.11/site-packages (from mlflow-skinny[databricks]<3,>=2.11.0->databricks-feature-engineering==0.6) (6.0.0)\n",
      "Requirement already satisfied: opentelemetry-api<3,>=1.9.0 in /local_disk0/.ephemeral_nfs/envs/pythonEnv-0fb5c216-6dc6-418e-a223-69ee6a2ca2a1/lib/python3.11/site-packages (from mlflow-skinny[databricks]<3,>=2.11.0->databricks-feature-engineering==0.6) (1.30.0)\n",
      "Requirement already satisfied: opentelemetry-sdk<3,>=1.9.0 in /local_disk0/.ephemeral_nfs/envs/pythonEnv-0fb5c216-6dc6-418e-a223-69ee6a2ca2a1/lib/python3.11/site-packages (from mlflow-skinny[databricks]<3,>=2.11.0->databricks-feature-engineering==0.6) (1.30.0)\n",
      "Requirement already satisfied: packaging<25 in /databricks/python3/lib/python3.11/site-packages (from mlflow-skinny[databricks]<3,>=2.11.0->databricks-feature-engineering==0.6) (23.2)\n",
      "Requirement already satisfied: requests<3,>=2.17.3 in /databricks/python3/lib/python3.11/site-packages (from mlflow-skinny[databricks]<3,>=2.11.0->databricks-feature-engineering==0.6) (2.31.0)\n",
      "Requirement already satisfied: azure-storage-file-datalake>12 in /databricks/python3/lib/python3.11/site-packages (from mlflow-skinny[databricks]<3,>=2.11.0->databricks-feature-engineering==0.6) (12.14.0)\n",
      "Requirement already satisfied: google-cloud-storage>=1.30.0 in /databricks/python3/lib/python3.11/site-packages (from mlflow-skinny[databricks]<3,>=2.11.0->databricks-feature-engineering==0.6) (2.17.0)\n",
      "Requirement already satisfied: six>=1.11.0 in /usr/lib/python3/dist-packages (from azure-core<2.0.0,>=1.23.0->azure-cosmos==4.3.1->databricks-feature-engineering==0.6) (1.16.0)\n",
      "Requirement already satisfied: typing-extensions>=4.6.0 in /databricks/python3/lib/python3.11/site-packages (from azure-core<2.0.0,>=1.23.0->azure-cosmos==4.3.1->databricks-feature-engineering==0.6) (4.10.0)\n",
      "Requirement already satisfied: azure-storage-blob<13.0.0,>=12.19.0 in /databricks/python3/lib/python3.11/site-packages (from azure-storage-file-datalake>12->mlflow-skinny[databricks]<3,>=2.11.0->databricks-feature-engineering==0.6) (12.19.1)\n",
      "Requirement already satisfied: isodate>=0.6.1 in /databricks/python3/lib/python3.11/site-packages (from azure-storage-file-datalake>12->mlflow-skinny[databricks]<3,>=2.11.0->databricks-feature-engineering==0.6) (0.6.1)\n",
      "Requirement already satisfied: python-dateutil<3.0.0,>=2.1 in /databricks/python3/lib/python3.11/site-packages (from botocore<1.35.0,>=1.34.39->boto3<2,>=1.16.7->databricks-feature-engineering==0.6) (2.8.2)\n",
      "Requirement already satisfied: urllib3<2.1,>=1.25.4 in /databricks/python3/lib/python3.11/site-packages (from botocore<1.35.0,>=1.34.39->boto3<2,>=1.16.7->databricks-feature-engineering==0.6) (1.26.16)\n",
      "Requirement already satisfied: google-auth~=2.0 in /databricks/python3/lib/python3.11/site-packages (from databricks-sdk<1,>=0.20.0->mlflow-skinny[databricks]<3,>=2.11.0->databricks-feature-engineering==0.6) (2.31.0)\n",
      "Requirement already satisfied: gitdb<5,>=4.0.1 in /databricks/python3/lib/python3.11/site-packages (from gitpython<4,>=3.1.9->mlflow-skinny[databricks]<3,>=2.11.0->databricks-feature-engineering==0.6) (4.0.11)\n",
      "Requirement already satisfied: google-api-core<3.0.0dev,>=2.15.0 in /databricks/python3/lib/python3.11/site-packages (from google-cloud-storage>=1.30.0->mlflow-skinny[databricks]<3,>=2.11.0->databricks-feature-engineering==0.6) (2.18.0)\n",
      "Requirement already satisfied: google-cloud-core<3.0dev,>=2.3.0 in /databricks/python3/lib/python3.11/site-packages (from google-cloud-storage>=1.30.0->mlflow-skinny[databricks]<3,>=2.11.0->databricks-feature-engineering==0.6) (2.4.1)\n",
      "Requirement already satisfied: google-resumable-media>=2.6.0 in /databricks/python3/lib/python3.11/site-packages (from google-cloud-storage>=1.30.0->mlflow-skinny[databricks]<3,>=2.11.0->databricks-feature-engineering==0.6) (2.7.1)\n",
      "Requirement already satisfied: google-crc32c<2.0dev,>=1.0 in /databricks/python3/lib/python3.11/site-packages (from google-cloud-storage>=1.30.0->mlflow-skinny[databricks]<3,>=2.11.0->databricks-feature-engineering==0.6) (1.5.0)\n",
      "Requirement already satisfied: zipp>=0.5 in /databricks/python3/lib/python3.11/site-packages (from importlib-metadata!=4.7.0,<9,>=3.7.0->mlflow-skinny[databricks]<3,>=2.11.0->databricks-feature-engineering==0.6) (3.11.0)\n",
      "Requirement already satisfied: MarkupSafe>=2.0 in /local_disk0/.ephemeral_nfs/envs/pythonEnv-0fb5c216-6dc6-418e-a223-69ee6a2ca2a1/lib/python3.11/site-packages (from Jinja2>=3.1.2->flask<3,>=1.1.2->databricks-feature-engineering==0.6) (3.0.2)\n",
      "Requirement already satisfied: deprecated>=1.2.6 in /local_disk0/.ephemeral_nfs/envs/pythonEnv-0fb5c216-6dc6-418e-a223-69ee6a2ca2a1/lib/python3.11/site-packages (from opentelemetry-api<3,>=1.9.0->mlflow-skinny[databricks]<3,>=2.11.0->databricks-feature-engineering==0.6) (1.2.18)\n",
      "Requirement already satisfied: opentelemetry-semantic-conventions==0.51b0 in /local_disk0/.ephemeral_nfs/envs/pythonEnv-0fb5c216-6dc6-418e-a223-69ee6a2ca2a1/lib/python3.11/site-packages (from opentelemetry-sdk<3,>=1.9.0->mlflow-skinny[databricks]<3,>=2.11.0->databricks-feature-engineering==0.6) (0.51b0)\n",
      "Requirement already satisfied: charset-normalizer<4,>=2 in /databricks/python3/lib/python3.11/site-packages (from requests<3,>=2.17.3->mlflow-skinny[databricks]<3,>=2.11.0->databricks-feature-engineering==0.6) (2.0.4)\n",
      "Requirement already satisfied: idna<4,>=2.5 in /databricks/python3/lib/python3.11/site-packages (from requests<3,>=2.17.3->mlflow-skinny[databricks]<3,>=2.11.0->databricks-feature-engineering==0.6) (3.4)\n",
      "Requirement already satisfied: certifi>=2017.4.17 in /databricks/python3/lib/python3.11/site-packages (from requests<3,>=2.17.3->mlflow-skinny[databricks]<3,>=2.11.0->databricks-feature-engineering==0.6) (2023.7.22)\n",
      "Requirement already satisfied: cryptography>=2.1.4 in /databricks/python3/lib/python3.11/site-packages (from azure-storage-blob<13.0.0,>=12.19.0->azure-storage-file-datalake>12->mlflow-skinny[databricks]<3,>=2.11.0->databricks-feature-engineering==0.6) (41.0.3)\n",
      "Requirement already satisfied: wrapt<2,>=1.10 in /local_disk0/.ephemeral_nfs/envs/pythonEnv-0fb5c216-6dc6-418e-a223-69ee6a2ca2a1/lib/python3.11/site-packages (from deprecated>=1.2.6->opentelemetry-api<3,>=1.9.0->mlflow-skinny[databricks]<3,>=2.11.0->databricks-feature-engineering==0.6) (1.17.2)\n",
      "Requirement already satisfied: smmap<6,>=3.0.1 in /databricks/python3/lib/python3.11/site-packages (from gitdb<5,>=4.0.1->gitpython<4,>=3.1.9->mlflow-skinny[databricks]<3,>=2.11.0->databricks-feature-engineering==0.6) (5.0.1)\n",
      "Requirement already satisfied: googleapis-common-protos<2.0.dev0,>=1.56.2 in /databricks/python3/lib/python3.11/site-packages (from google-api-core<3.0.0dev,>=2.15.0->google-cloud-storage>=1.30.0->mlflow-skinny[databricks]<3,>=2.11.0->databricks-feature-engineering==0.6) (1.63.2)\n",
      "Requirement already satisfied: proto-plus<2.0.0dev,>=1.22.3 in /databricks/python3/lib/python3.11/site-packages (from google-api-core<3.0.0dev,>=2.15.0->google-cloud-storage>=1.30.0->mlflow-skinny[databricks]<3,>=2.11.0->databricks-feature-engineering==0.6) (1.24.0)\n",
      "Requirement already satisfied: pyasn1-modules>=0.2.1 in /databricks/python3/lib/python3.11/site-packages (from google-auth~=2.0->databricks-sdk<1,>=0.20.0->mlflow-skinny[databricks]<3,>=2.11.0->databricks-feature-engineering==0.6) (0.2.8)\n",
      "Requirement already satisfied: rsa<5,>=3.1.4 in /databricks/python3/lib/python3.11/site-packages (from google-auth~=2.0->databricks-sdk<1,>=0.20.0->mlflow-skinny[databricks]<3,>=2.11.0->databricks-feature-engineering==0.6) (4.9)\n",
      "Requirement already satisfied: cffi>=1.12 in /databricks/python3/lib/python3.11/site-packages (from cryptography>=2.1.4->azure-storage-blob<13.0.0,>=12.19.0->azure-storage-file-datalake>12->mlflow-skinny[databricks]<3,>=2.11.0->databricks-feature-engineering==0.6) (1.15.1)\n",
      "Requirement already satisfied: pyasn1<0.5.0,>=0.4.6 in /databricks/python3/lib/python3.11/site-packages (from pyasn1-modules>=0.2.1->google-auth~=2.0->databricks-sdk<1,>=0.20.0->mlflow-skinny[databricks]<3,>=2.11.0->databricks-feature-engineering==0.6) (0.4.8)\n",
      "Requirement already satisfied: pycparser in /databricks/python3/lib/python3.11/site-packages (from cffi>=1.12->cryptography>=2.1.4->azure-storage-blob<13.0.0,>=12.19.0->azure-storage-file-datalake>12->mlflow-skinny[databricks]<3,>=2.11.0->databricks-feature-engineering==0.6) (2.21)\n",
      "Using cached databricks_feature_engineering-0.6.0-py3-none-any.whl (253 kB)\n",
      "Using cached azure_cosmos-4.3.1-py3-none-any.whl (222 kB)\n",
      "Using cached dbl_tempo-0.1.29-py3-none-any.whl (41 kB)\n",
      "Using cached flask-2.3.3-py3-none-any.whl (96 kB)\n",
      "Installing collected packages: dbl-tempo, flask, azure-cosmos, databricks-feature-engineering\n",
      "  Attempting uninstall: flask\n",
      "    Found existing installation: Flask 3.1.0\n",
      "    Uninstalling Flask-3.1.0:\n",
      "      Successfully uninstalled Flask-3.1.0\n",
      "Successfully installed azure-cosmos-4.3.1 databricks-feature-engineering-0.6.0 dbl-tempo-0.1.29 flask-2.3.3\n",
      "\u001b[43mNote: you may need to restart the kernel using %restart_python or dbutils.library.restartPython() to use updated packages.\u001b[0m\n"
     ]
    }
   ],
   "source": [
    "%pip install databricks-feature-engineering==0.6"
   ]
  },
  {
   "cell_type": "code",
   "execution_count": 0,
   "metadata": {
    "application/vnd.databricks.v1+cell": {
     "cellMetadata": {
      "byteLimit": 2048000,
      "rowLimit": 10000
     },
     "inputWidgets": {},
     "nuid": "05b425a6-58b9-45c7-b15d-ed942f9dc406",
     "showTitle": false,
     "tableResultSettingsMap": {},
     "title": ""
    }
   },
   "outputs": [
    {
     "name": "stdout",
     "output_type": "stream",
     "text": [
      "Collecting databricks-feature-lookup==1.2.0\n",
      "  Obtaining dependency information for databricks-feature-lookup==1.2.0 from https://files.pythonhosted.org/packages/20/16/d5464c1d6a11896d956dd9b9854c7072ca87333a8d788e3bd176b062bcf5/databricks_feature_lookup-1.2.0-py3-none-any.whl.metadata\n",
      "  Using cached databricks_feature_lookup-1.2.0-py3-none-any.whl.metadata (4.5 kB)\n",
      "Requirement already satisfied: mlflow>=1.23.0 in /local_disk0/.ephemeral_nfs/envs/pythonEnv-0fb5c216-6dc6-418e-a223-69ee6a2ca2a1/lib/python3.11/site-packages (from databricks-feature-lookup==1.2.0) (2.17.0)\n",
      "Requirement already satisfied: pyyaml>=5.1 in /databricks/python3/lib/python3.11/site-packages (from databricks-feature-lookup==1.2.0) (6.0)\n",
      "Requirement already satisfied: sqlalchemy>=1.4.8 in /local_disk0/.ephemeral_nfs/envs/pythonEnv-0fb5c216-6dc6-418e-a223-69ee6a2ca2a1/lib/python3.11/site-packages (from databricks-feature-lookup==1.2.0) (2.0.38)\n",
      "Collecting pymysql>=1.0.2 (from databricks-feature-lookup==1.2.0)\n",
      "  Obtaining dependency information for pymysql>=1.0.2 from https://files.pythonhosted.org/packages/0c/94/e4181a1f6286f545507528c78016e00065ea913276888db2262507693ce5/PyMySQL-1.1.1-py3-none-any.whl.metadata\n",
      "  Using cached PyMySQL-1.1.1-py3-none-any.whl.metadata (4.4 kB)\n",
      "Requirement already satisfied: boto3>=1.19.9 in /databricks/python3/lib/python3.11/site-packages (from databricks-feature-lookup==1.2.0) (1.34.39)\n",
      "Requirement already satisfied: azure-cosmos>=4.2.0 in /local_disk0/.ephemeral_nfs/envs/pythonEnv-0fb5c216-6dc6-418e-a223-69ee6a2ca2a1/lib/python3.11/site-packages (from databricks-feature-lookup==1.2.0) (4.3.1)\n",
      "Requirement already satisfied: pyarrow==14.* in /databricks/python3/lib/python3.11/site-packages (from databricks-feature-lookup==1.2.0) (14.0.1)\n",
      "Requirement already satisfied: requests==2.* in /databricks/python3/lib/python3.11/site-packages (from databricks-feature-lookup==1.2.0) (2.31.0)\n",
      "Requirement already satisfied: numpy<2 in /databricks/python3/lib/python3.11/site-packages (from databricks-feature-lookup==1.2.0) (1.23.5)\n",
      "Requirement already satisfied: charset-normalizer<4,>=2 in /databricks/python3/lib/python3.11/site-packages (from requests==2.*->databricks-feature-lookup==1.2.0) (2.0.4)\n",
      "Requirement already satisfied: idna<4,>=2.5 in /databricks/python3/lib/python3.11/site-packages (from requests==2.*->databricks-feature-lookup==1.2.0) (3.4)\n",
      "Requirement already satisfied: urllib3<3,>=1.21.1 in /databricks/python3/lib/python3.11/site-packages (from requests==2.*->databricks-feature-lookup==1.2.0) (1.26.16)\n",
      "Requirement already satisfied: certifi>=2017.4.17 in /databricks/python3/lib/python3.11/site-packages (from requests==2.*->databricks-feature-lookup==1.2.0) (2023.7.22)\n",
      "Requirement already satisfied: azure-core<2.0.0,>=1.23.0 in /databricks/python3/lib/python3.11/site-packages (from azure-cosmos>=4.2.0->databricks-feature-lookup==1.2.0) (1.30.2)\n",
      "Requirement already satisfied: botocore<1.35.0,>=1.34.39 in /databricks/python3/lib/python3.11/site-packages (from boto3>=1.19.9->databricks-feature-lookup==1.2.0) (1.34.39)\n",
      "Requirement already satisfied: jmespath<2.0.0,>=0.7.1 in /databricks/python3/lib/python3.11/site-packages (from boto3>=1.19.9->databricks-feature-lookup==1.2.0) (0.10.0)\n",
      "Requirement already satisfied: s3transfer<0.11.0,>=0.10.0 in /databricks/python3/lib/python3.11/site-packages (from boto3>=1.19.9->databricks-feature-lookup==1.2.0) (0.10.2)\n",
      "Requirement already satisfied: mlflow-skinny==2.17.0 in /local_disk0/.ephemeral_nfs/envs/pythonEnv-0fb5c216-6dc6-418e-a223-69ee6a2ca2a1/lib/python3.11/site-packages (from mlflow>=1.23.0->databricks-feature-lookup==1.2.0) (2.17.0)\n",
      "Requirement already satisfied: Flask<4 in /local_disk0/.ephemeral_nfs/envs/pythonEnv-0fb5c216-6dc6-418e-a223-69ee6a2ca2a1/lib/python3.11/site-packages (from mlflow>=1.23.0->databricks-feature-lookup==1.2.0) (2.3.3)\n",
      "Requirement already satisfied: alembic!=1.10.0,<2 in /local_disk0/.ephemeral_nfs/envs/pythonEnv-0fb5c216-6dc6-418e-a223-69ee6a2ca2a1/lib/python3.11/site-packages (from mlflow>=1.23.0->databricks-feature-lookup==1.2.0) (1.14.1)\n",
      "Requirement already satisfied: docker<8,>=4.0.0 in /local_disk0/.ephemeral_nfs/envs/pythonEnv-0fb5c216-6dc6-418e-a223-69ee6a2ca2a1/lib/python3.11/site-packages (from mlflow>=1.23.0->databricks-feature-lookup==1.2.0) (7.1.0)\n",
      "Requirement already satisfied: graphene<4 in /local_disk0/.ephemeral_nfs/envs/pythonEnv-0fb5c216-6dc6-418e-a223-69ee6a2ca2a1/lib/python3.11/site-packages (from mlflow>=1.23.0->databricks-feature-lookup==1.2.0) (3.4.3)\n",
      "Requirement already satisfied: markdown<4,>=3.3 in /local_disk0/.ephemeral_nfs/envs/pythonEnv-0fb5c216-6dc6-418e-a223-69ee6a2ca2a1/lib/python3.11/site-packages (from mlflow>=1.23.0->databricks-feature-lookup==1.2.0) (3.7)\n",
      "Requirement already satisfied: matplotlib<4 in /databricks/python3/lib/python3.11/site-packages (from mlflow>=1.23.0->databricks-feature-lookup==1.2.0) (3.7.2)\n",
      "Requirement already satisfied: pandas<3 in /databricks/python3/lib/python3.11/site-packages (from mlflow>=1.23.0->databricks-feature-lookup==1.2.0) (1.5.3)\n",
      "Requirement already satisfied: scikit-learn<2 in /local_disk0/.ephemeral_nfs/envs/pythonEnv-0fb5c216-6dc6-418e-a223-69ee6a2ca2a1/lib/python3.11/site-packages (from mlflow>=1.23.0->databricks-feature-lookup==1.2.0) (1.5.2)\n",
      "Requirement already satisfied: scipy<2 in /databricks/python3/lib/python3.11/site-packages (from mlflow>=1.23.0->databricks-feature-lookup==1.2.0) (1.11.1)\n",
      "Requirement already satisfied: Jinja2<4,>=2.11 in /local_disk0/.ephemeral_nfs/envs/pythonEnv-0fb5c216-6dc6-418e-a223-69ee6a2ca2a1/lib/python3.11/site-packages (from mlflow>=1.23.0->databricks-feature-lookup==1.2.0) (3.1.5)\n",
      "Requirement already satisfied: gunicorn<24 in /local_disk0/.ephemeral_nfs/envs/pythonEnv-0fb5c216-6dc6-418e-a223-69ee6a2ca2a1/lib/python3.11/site-packages (from mlflow>=1.23.0->databricks-feature-lookup==1.2.0) (23.0.0)\n",
      "Requirement already satisfied: cachetools<6,>=5.0.0 in /databricks/python3/lib/python3.11/site-packages (from mlflow-skinny==2.17.0->mlflow>=1.23.0->databricks-feature-lookup==1.2.0) (5.3.3)\n",
      "Requirement already satisfied: click<9,>=7.0 in /local_disk0/.ephemeral_nfs/envs/pythonEnv-0fb5c216-6dc6-418e-a223-69ee6a2ca2a1/lib/python3.11/site-packages (from mlflow-skinny==2.17.0->mlflow>=1.23.0->databricks-feature-lookup==1.2.0) (8.1.8)\n",
      "Requirement already satisfied: cloudpickle<4 in /databricks/python3/lib/python3.11/site-packages (from mlflow-skinny==2.17.0->mlflow>=1.23.0->databricks-feature-lookup==1.2.0) (2.2.1)\n",
      "Requirement already satisfied: databricks-sdk<1,>=0.20.0 in /databricks/python3/lib/python3.11/site-packages (from mlflow-skinny==2.17.0->mlflow>=1.23.0->databricks-feature-lookup==1.2.0) (0.20.0)\n",
      "Requirement already satisfied: gitpython<4,>=3.1.9 in /databricks/python3/lib/python3.11/site-packages (from mlflow-skinny==2.17.0->mlflow>=1.23.0->databricks-feature-lookup==1.2.0) (3.1.43)\n",
      "Requirement already satisfied: importlib-metadata!=4.7.0,<9,>=3.7.0 in /databricks/python3/lib/python3.11/site-packages (from mlflow-skinny==2.17.0->mlflow>=1.23.0->databricks-feature-lookup==1.2.0) (6.0.0)\n",
      "Requirement already satisfied: opentelemetry-api<3,>=1.9.0 in /local_disk0/.ephemeral_nfs/envs/pythonEnv-0fb5c216-6dc6-418e-a223-69ee6a2ca2a1/lib/python3.11/site-packages (from mlflow-skinny==2.17.0->mlflow>=1.23.0->databricks-feature-lookup==1.2.0) (1.30.0)\n",
      "Requirement already satisfied: opentelemetry-sdk<3,>=1.9.0 in /local_disk0/.ephemeral_nfs/envs/pythonEnv-0fb5c216-6dc6-418e-a223-69ee6a2ca2a1/lib/python3.11/site-packages (from mlflow-skinny==2.17.0->mlflow>=1.23.0->databricks-feature-lookup==1.2.0) (1.30.0)\n",
      "Requirement already satisfied: packaging<25 in /databricks/python3/lib/python3.11/site-packages (from mlflow-skinny==2.17.0->mlflow>=1.23.0->databricks-feature-lookup==1.2.0) (23.2)\n",
      "Requirement already satisfied: protobuf<6,>=3.12.0 in /databricks/python3/lib/python3.11/site-packages (from mlflow-skinny==2.17.0->mlflow>=1.23.0->databricks-feature-lookup==1.2.0) (4.24.1)\n",
      "Requirement already satisfied: sqlparse<1,>=0.4.0 in /databricks/python3/lib/python3.11/site-packages (from mlflow-skinny==2.17.0->mlflow>=1.23.0->databricks-feature-lookup==1.2.0) (0.5.0)\n",
      "Requirement already satisfied: greenlet!=0.4.17 in /local_disk0/.ephemeral_nfs/envs/pythonEnv-0fb5c216-6dc6-418e-a223-69ee6a2ca2a1/lib/python3.11/site-packages (from sqlalchemy>=1.4.8->databricks-feature-lookup==1.2.0) (3.1.1)\n",
      "Requirement already satisfied: typing-extensions>=4.6.0 in /databricks/python3/lib/python3.11/site-packages (from sqlalchemy>=1.4.8->databricks-feature-lookup==1.2.0) (4.10.0)\n",
      "Requirement already satisfied: Mako in /local_disk0/.ephemeral_nfs/envs/pythonEnv-0fb5c216-6dc6-418e-a223-69ee6a2ca2a1/lib/python3.11/site-packages (from alembic!=1.10.0,<2->mlflow>=1.23.0->databricks-feature-lookup==1.2.0) (1.3.9)\n",
      "Requirement already satisfied: six>=1.11.0 in /usr/lib/python3/dist-packages (from azure-core<2.0.0,>=1.23.0->azure-cosmos>=4.2.0->databricks-feature-lookup==1.2.0) (1.16.0)\n",
      "Requirement already satisfied: python-dateutil<3.0.0,>=2.1 in /databricks/python3/lib/python3.11/site-packages (from botocore<1.35.0,>=1.34.39->boto3>=1.19.9->databricks-feature-lookup==1.2.0) (2.8.2)\n",
      "Requirement already satisfied: Werkzeug>=2.3.7 in /local_disk0/.ephemeral_nfs/envs/pythonEnv-0fb5c216-6dc6-418e-a223-69ee6a2ca2a1/lib/python3.11/site-packages (from Flask<4->mlflow>=1.23.0->databricks-feature-lookup==1.2.0) (3.1.3)\n",
      "Requirement already satisfied: itsdangerous>=2.1.2 in /local_disk0/.ephemeral_nfs/envs/pythonEnv-0fb5c216-6dc6-418e-a223-69ee6a2ca2a1/lib/python3.11/site-packages (from Flask<4->mlflow>=1.23.0->databricks-feature-lookup==1.2.0) (2.2.0)\n",
      "Requirement already satisfied: blinker>=1.6.2 in /local_disk0/.ephemeral_nfs/envs/pythonEnv-0fb5c216-6dc6-418e-a223-69ee6a2ca2a1/lib/python3.11/site-packages (from Flask<4->mlflow>=1.23.0->databricks-feature-lookup==1.2.0) (1.9.0)\n",
      "Requirement already satisfied: graphql-core<3.3,>=3.1 in /local_disk0/.ephemeral_nfs/envs/pythonEnv-0fb5c216-6dc6-418e-a223-69ee6a2ca2a1/lib/python3.11/site-packages (from graphene<4->mlflow>=1.23.0->databricks-feature-lookup==1.2.0) (3.2.6)\n",
      "Requirement already satisfied: graphql-relay<3.3,>=3.1 in /local_disk0/.ephemeral_nfs/envs/pythonEnv-0fb5c216-6dc6-418e-a223-69ee6a2ca2a1/lib/python3.11/site-packages (from graphene<4->mlflow>=1.23.0->databricks-feature-lookup==1.2.0) (3.2.0)\n",
      "Requirement already satisfied: MarkupSafe>=2.0 in /local_disk0/.ephemeral_nfs/envs/pythonEnv-0fb5c216-6dc6-418e-a223-69ee6a2ca2a1/lib/python3.11/site-packages (from Jinja2<4,>=2.11->mlflow>=1.23.0->databricks-feature-lookup==1.2.0) (3.0.2)\n",
      "Requirement already satisfied: contourpy>=1.0.1 in /databricks/python3/lib/python3.11/site-packages (from matplotlib<4->mlflow>=1.23.0->databricks-feature-lookup==1.2.0) (1.0.5)\n",
      "Requirement already satisfied: cycler>=0.10 in /databricks/python3/lib/python3.11/site-packages (from matplotlib<4->mlflow>=1.23.0->databricks-feature-lookup==1.2.0) (0.11.0)\n",
      "Requirement already satisfied: fonttools>=4.22.0 in /databricks/python3/lib/python3.11/site-packages (from matplotlib<4->mlflow>=1.23.0->databricks-feature-lookup==1.2.0) (4.25.0)\n",
      "Requirement already satisfied: kiwisolver>=1.0.1 in /databricks/python3/lib/python3.11/site-packages (from matplotlib<4->mlflow>=1.23.0->databricks-feature-lookup==1.2.0) (1.4.4)\n",
      "Requirement already satisfied: pillow>=6.2.0 in /databricks/python3/lib/python3.11/site-packages (from matplotlib<4->mlflow>=1.23.0->databricks-feature-lookup==1.2.0) (9.4.0)\n",
      "Requirement already satisfied: pyparsing<3.1,>=2.3.1 in /databricks/python3/lib/python3.11/site-packages (from matplotlib<4->mlflow>=1.23.0->databricks-feature-lookup==1.2.0) (3.0.9)\n",
      "Requirement already satisfied: pytz>=2020.1 in /databricks/python3/lib/python3.11/site-packages (from pandas<3->mlflow>=1.23.0->databricks-feature-lookup==1.2.0) (2022.7)\n",
      "Requirement already satisfied: joblib>=1.2.0 in /databricks/python3/lib/python3.11/site-packages (from scikit-learn<2->mlflow>=1.23.0->databricks-feature-lookup==1.2.0) (1.2.0)\n",
      "Requirement already satisfied: threadpoolctl>=3.1.0 in /local_disk0/.ephemeral_nfs/envs/pythonEnv-0fb5c216-6dc6-418e-a223-69ee6a2ca2a1/lib/python3.11/site-packages (from scikit-learn<2->mlflow>=1.23.0->databricks-feature-lookup==1.2.0) (3.5.0)\n",
      "Requirement already satisfied: google-auth~=2.0 in /databricks/python3/lib/python3.11/site-packages (from databricks-sdk<1,>=0.20.0->mlflow-skinny==2.17.0->mlflow>=1.23.0->databricks-feature-lookup==1.2.0) (2.31.0)\n",
      "Requirement already satisfied: gitdb<5,>=4.0.1 in /databricks/python3/lib/python3.11/site-packages (from gitpython<4,>=3.1.9->mlflow-skinny==2.17.0->mlflow>=1.23.0->databricks-feature-lookup==1.2.0) (4.0.11)\n",
      "Requirement already satisfied: zipp>=0.5 in /databricks/python3/lib/python3.11/site-packages (from importlib-metadata!=4.7.0,<9,>=3.7.0->mlflow-skinny==2.17.0->mlflow>=1.23.0->databricks-feature-lookup==1.2.0) (3.11.0)\n",
      "Requirement already satisfied: deprecated>=1.2.6 in /local_disk0/.ephemeral_nfs/envs/pythonEnv-0fb5c216-6dc6-418e-a223-69ee6a2ca2a1/lib/python3.11/site-packages (from opentelemetry-api<3,>=1.9.0->mlflow-skinny==2.17.0->mlflow>=1.23.0->databricks-feature-lookup==1.2.0) (1.2.18)\n",
      "Requirement already satisfied: opentelemetry-semantic-conventions==0.51b0 in /local_disk0/.ephemeral_nfs/envs/pythonEnv-0fb5c216-6dc6-418e-a223-69ee6a2ca2a1/lib/python3.11/site-packages (from opentelemetry-sdk<3,>=1.9.0->mlflow-skinny==2.17.0->mlflow>=1.23.0->databricks-feature-lookup==1.2.0) (0.51b0)\n",
      "Requirement already satisfied: wrapt<2,>=1.10 in /local_disk0/.ephemeral_nfs/envs/pythonEnv-0fb5c216-6dc6-418e-a223-69ee6a2ca2a1/lib/python3.11/site-packages (from deprecated>=1.2.6->opentelemetry-api<3,>=1.9.0->mlflow-skinny==2.17.0->mlflow>=1.23.0->databricks-feature-lookup==1.2.0) (1.17.2)\n",
      "Requirement already satisfied: smmap<6,>=3.0.1 in /databricks/python3/lib/python3.11/site-packages (from gitdb<5,>=4.0.1->gitpython<4,>=3.1.9->mlflow-skinny==2.17.0->mlflow>=1.23.0->databricks-feature-lookup==1.2.0) (5.0.1)\n",
      "Requirement already satisfied: pyasn1-modules>=0.2.1 in /databricks/python3/lib/python3.11/site-packages (from google-auth~=2.0->databricks-sdk<1,>=0.20.0->mlflow-skinny==2.17.0->mlflow>=1.23.0->databricks-feature-lookup==1.2.0) (0.2.8)\n",
      "Requirement already satisfied: rsa<5,>=3.1.4 in /databricks/python3/lib/python3.11/site-packages (from google-auth~=2.0->databricks-sdk<1,>=0.20.0->mlflow-skinny==2.17.0->mlflow>=1.23.0->databricks-feature-lookup==1.2.0) (4.9)\n",
      "Requirement already satisfied: pyasn1<0.5.0,>=0.4.6 in /databricks/python3/lib/python3.11/site-packages (from pyasn1-modules>=0.2.1->google-auth~=2.0->databricks-sdk<1,>=0.20.0->mlflow-skinny==2.17.0->mlflow>=1.23.0->databricks-feature-lookup==1.2.0) (0.4.8)\n",
      "Using cached databricks_feature_lookup-1.2.0-py3-none-any.whl (98 kB)\n",
      "Using cached PyMySQL-1.1.1-py3-none-any.whl (44 kB)\n",
      "Installing collected packages: pymysql, databricks-feature-lookup\n",
      "Successfully installed databricks-feature-lookup-1.2.0 pymysql-1.1.1\n",
      "\u001b[43mNote: you may need to restart the kernel using %restart_python or dbutils.library.restartPython() to use updated packages.\u001b[0m\n"
     ]
    }
   ],
   "source": [
    "%pip install databricks-feature-lookup==1.2.0"
   ]
  },
  {
   "cell_type": "code",
   "execution_count": 0,
   "metadata": {
    "application/vnd.databricks.v1+cell": {
     "cellMetadata": {
      "byteLimit": 2048000,
      "rowLimit": 10000
     },
     "inputWidgets": {},
     "nuid": "e6a16621-4a3c-437e-9901-9354fb5070ff",
     "showTitle": false,
     "tableResultSettingsMap": {},
     "title": ""
    }
   },
   "outputs": [
    {
     "name": "stdout",
     "output_type": "stream",
     "text": [
      "Collecting databricks-sdk==0.32.0\n",
      "  Obtaining dependency information for databricks-sdk==0.32.0 from https://files.pythonhosted.org/packages/b5/a7/0f7ce505b256c4b25bd9ce2ffc4304a77e78f933e942d80f11809e2b0a28/databricks_sdk-0.32.0-py3-none-any.whl.metadata\n",
      "  Using cached databricks_sdk-0.32.0-py3-none-any.whl.metadata (37 kB)\n",
      "Requirement already satisfied: requests<3,>=2.28.1 in /databricks/python3/lib/python3.11/site-packages (from databricks-sdk==0.32.0) (2.31.0)\n",
      "Requirement already satisfied: google-auth~=2.0 in /databricks/python3/lib/python3.11/site-packages (from databricks-sdk==0.32.0) (2.31.0)\n",
      "Requirement already satisfied: cachetools<6.0,>=2.0.0 in /databricks/python3/lib/python3.11/site-packages (from google-auth~=2.0->databricks-sdk==0.32.0) (5.3.3)\n",
      "Requirement already satisfied: pyasn1-modules>=0.2.1 in /databricks/python3/lib/python3.11/site-packages (from google-auth~=2.0->databricks-sdk==0.32.0) (0.2.8)\n",
      "Requirement already satisfied: rsa<5,>=3.1.4 in /databricks/python3/lib/python3.11/site-packages (from google-auth~=2.0->databricks-sdk==0.32.0) (4.9)\n",
      "Requirement already satisfied: charset-normalizer<4,>=2 in /databricks/python3/lib/python3.11/site-packages (from requests<3,>=2.28.1->databricks-sdk==0.32.0) (2.0.4)\n",
      "Requirement already satisfied: idna<4,>=2.5 in /databricks/python3/lib/python3.11/site-packages (from requests<3,>=2.28.1->databricks-sdk==0.32.0) (3.4)\n",
      "Requirement already satisfied: urllib3<3,>=1.21.1 in /databricks/python3/lib/python3.11/site-packages (from requests<3,>=2.28.1->databricks-sdk==0.32.0) (1.26.16)\n",
      "Requirement already satisfied: certifi>=2017.4.17 in /databricks/python3/lib/python3.11/site-packages (from requests<3,>=2.28.1->databricks-sdk==0.32.0) (2023.7.22)\n",
      "Requirement already satisfied: pyasn1<0.5.0,>=0.4.6 in /databricks/python3/lib/python3.11/site-packages (from pyasn1-modules>=0.2.1->google-auth~=2.0->databricks-sdk==0.32.0) (0.4.8)\n",
      "Using cached databricks_sdk-0.32.0-py3-none-any.whl (551 kB)\n",
      "Installing collected packages: databricks-sdk\n",
      "  Attempting uninstall: databricks-sdk\n",
      "    Found existing installation: databricks-sdk 0.20.0\n",
      "    Not uninstalling databricks-sdk at /databricks/python3/lib/python3.11/site-packages, outside environment /local_disk0/.ephemeral_nfs/envs/pythonEnv-0fb5c216-6dc6-418e-a223-69ee6a2ca2a1\n",
      "    Can't uninstall 'databricks-sdk'. No files were found to uninstall.\n",
      "Successfully installed databricks-sdk-0.32.0\n",
      "\u001b[43mNote: you may need to restart the kernel using %restart_python or dbutils.library.restartPython() to use updated packages.\u001b[0m\n"
     ]
    }
   ],
   "source": [
    "%pip install databricks-sdk==0.32.0"
   ]
  },
  {
   "cell_type": "code",
   "execution_count": 0,
   "metadata": {
    "application/vnd.databricks.v1+cell": {
     "cellMetadata": {
      "byteLimit": 2048000,
      "rowLimit": 10000
     },
     "inputWidgets": {},
     "nuid": "5e082423-053e-4a7e-a5d1-38f063b67ccc",
     "showTitle": false,
     "tableResultSettingsMap": {},
     "title": ""
    }
   },
   "outputs": [
    {
     "name": "stdout",
     "output_type": "stream",
     "text": [
      "Collecting lightgbm==4.5.0\n",
      "  Obtaining dependency information for lightgbm==4.5.0 from https://files.pythonhosted.org/packages/4e/19/1b928cad70a4e1a3e2c37d5417ca2182510f2451eaadb6c91cd9ec692cae/lightgbm-4.5.0-py3-none-manylinux_2_28_x86_64.whl.metadata\n",
      "  Using cached lightgbm-4.5.0-py3-none-manylinux_2_28_x86_64.whl.metadata (17 kB)\n",
      "Requirement already satisfied: numpy>=1.17.0 in /databricks/python3/lib/python3.11/site-packages (from lightgbm==4.5.0) (1.23.5)\n",
      "Requirement already satisfied: scipy in /databricks/python3/lib/python3.11/site-packages (from lightgbm==4.5.0) (1.11.1)\n",
      "Using cached lightgbm-4.5.0-py3-none-manylinux_2_28_x86_64.whl (3.6 MB)\n",
      "Installing collected packages: lightgbm\n",
      "Successfully installed lightgbm-4.5.0\n",
      "\u001b[43mNote: you may need to restart the kernel using %restart_python or dbutils.library.restartPython() to use updated packages.\u001b[0m\n"
     ]
    }
   ],
   "source": [
    "%pip install lightgbm==4.5.0"
   ]
  },
  {
   "cell_type": "code",
   "execution_count": 0,
   "metadata": {
    "application/vnd.databricks.v1+cell": {
     "cellMetadata": {
      "byteLimit": 2048000,
      "rowLimit": 10000
     },
     "inputWidgets": {},
     "nuid": "5e5517b5-ca34-406c-afe3-9006d118cb76",
     "showTitle": false,
     "tableResultSettingsMap": {},
     "title": ""
    }
   },
   "outputs": [],
   "source": [
    "dbutils.library.restartPython()"
   ]
  },
  {
   "cell_type": "code",
   "execution_count": 0,
   "metadata": {
    "application/vnd.databricks.v1+cell": {
     "cellMetadata": {
      "byteLimit": 2048000,
      "rowLimit": 10000
     },
     "inputWidgets": {},
     "nuid": "e2e62545-2894-4cc6-8d77-767ed2a79062",
     "showTitle": false,
     "tableResultSettingsMap": {},
     "title": ""
    }
   },
   "outputs": [],
   "source": [
    "import os\n",
    "import time\n",
    "\n",
    "import mlflow\n",
    "import pandas as pd\n",
    "import requests\n",
    "from databricks import feature_engineering\n",
    "from pyspark.dbutils import DBUtils\n",
    "from databricks.connect import DatabricksSession\n",
    "\n",
    "from airbnb_listing.config import config\n",
    "from airbnb_listing.serving.feature_serving import FeatureServing\n",
    "from airbnb_listing.logging import logger\n",
    "\n",
    "#from airbnb_listing.env import DB_HOST,DB_TOKEN"
   ]
  },
  {
   "cell_type": "code",
   "execution_count": 0,
   "metadata": {
    "application/vnd.databricks.v1+cell": {
     "cellMetadata": {
      "byteLimit": 2048000,
      "rowLimit": 10000
     },
     "inputWidgets": {},
     "nuid": "9b04a916-44a7-49ea-b0c7-f32a07f4bdde",
     "showTitle": false,
     "tableResultSettingsMap": {},
     "title": ""
    }
   },
   "outputs": [],
   "source": [
    "from pyspark.dbutils import DBUtils"
   ]
  },
  {
   "cell_type": "code",
   "execution_count": 0,
   "metadata": {
    "application/vnd.databricks.v1+cell": {
     "cellMetadata": {
      "byteLimit": 2048000,
      "rowLimit": 10000
     },
     "inputWidgets": {},
     "nuid": "bbe0fe31-2f40-4bd0-86ad-fc4af4c49e10",
     "showTitle": false,
     "tableResultSettingsMap": {},
     "title": ""
    }
   },
   "outputs": [],
   "source": [
    "spark = DatabricksSession.builder.getOrCreate()"
   ]
  },
  {
   "cell_type": "code",
   "execution_count": 0,
   "metadata": {
    "application/vnd.databricks.v1+cell": {
     "cellMetadata": {
      "byteLimit": 2048000,
      "rowLimit": 10000
     },
     "inputWidgets": {},
     "nuid": "414ba304-03f6-4112-8c48-151fe7b6e1d3",
     "showTitle": false,
     "tableResultSettingsMap": {},
     "title": ""
    }
   },
   "outputs": [],
   "source": [
    "mlflow.set_tracking_uri(\"databricks\")\n",
    "mlflow.set_registry_uri(\"databricks-uc\")"
   ]
  },
  {
   "cell_type": "code",
   "execution_count": 0,
   "metadata": {
    "application/vnd.databricks.v1+cell": {
     "cellMetadata": {
      "byteLimit": 2048000,
      "rowLimit": 10000
     },
     "inputWidgets": {},
     "nuid": "1dec20db-46e3-46a8-9d7b-c55cfaf3f528",
     "showTitle": false,
     "tableResultSettingsMap": {},
     "title": ""
    }
   },
   "outputs": [],
   "source": [
    "fe = feature_engineering.FeatureEngineeringClient()"
   ]
  },
  {
   "cell_type": "code",
   "execution_count": 0,
   "metadata": {
    "application/vnd.databricks.v1+cell": {
     "cellMetadata": {
      "byteLimit": 2048000,
      "rowLimit": 10000
     },
     "inputWidgets": {},
     "nuid": "fac82cdb-bef7-4508-93ee-6f1a5d326fcf",
     "showTitle": false,
     "tableResultSettingsMap": {},
     "title": ""
    }
   },
   "outputs": [],
   "source": [
    "\n",
    "# get environment variables\n",
    "os.environ[\"DBR_TOKEN\"] = dbutils.notebook.entry_point.getDbutils().notebook().getContext().apiToken().get()\n",
    "os.environ[\"DBR_HOST\"] = spark.conf.get(\"spark.databricks.workspaceUrl\")\n",
    "\n",
    "# Set environment variables\n",
    "#os.environ[\"DB_HOST\"] = DB_HOST\n",
    "#os.environ[\"DB_TOKEN\"] = DB_TOKEN"
   ]
  },
  {
   "cell_type": "code",
   "execution_count": 0,
   "metadata": {
    "application/vnd.databricks.v1+cell": {
     "cellMetadata": {
      "byteLimit": 2048000,
      "rowLimit": 10000
     },
     "inputWidgets": {},
     "nuid": "059f7b4c-e183-4657-86d0-9aaf5d800c3c",
     "showTitle": false,
     "tableResultSettingsMap": {},
     "title": ""
    }
   },
   "outputs": [],
   "source": [
    "# Define catalog, schema, and feature table, feature spec, and endpoint names\n",
    "catalog_name = config.general.DEV_CATALOG\n",
    "model_asset_schema_name = config.general.ML_ASSET_SCHEMA\n",
    "feature_table_name = f\"{catalog_name}.{model_asset_schema_name}.airbnb_listing_preds\"\n",
    "feature_spec_name = f\"{catalog_name}.{model_asset_schema_name}.return_predictions\"\n",
    "endpoint_name = \"airbnb-listing-feature-serving\"\n",
    "\n",
    "silver_schema_name = config.general.SILVER_SCHEMA"
   ]
  },
  {
   "cell_type": "code",
   "execution_count": 0,
   "metadata": {
    "application/vnd.databricks.v1+cell": {
     "cellMetadata": {
      "byteLimit": 2048000,
      "rowLimit": 10000
     },
     "inputWidgets": {},
     "nuid": "dd9f7d0a-35e0-44da-af84-afd79e7fe999",
     "showTitle": false,
     "tableResultSettingsMap": {},
     "title": ""
    }
   },
   "outputs": [
    {
     "data": {
      "text/html": [
       "<div>\n",
       "<style scoped>\n",
       "    .dataframe tbody tr th:only-of-type {\n",
       "        vertical-align: middle;\n",
       "    }\n",
       "\n",
       "    .dataframe tbody tr th {\n",
       "        vertical-align: top;\n",
       "    }\n",
       "\n",
       "    .dataframe thead th {\n",
       "        text-align: right;\n",
       "    }\n",
       "</style>\n",
       "<table border=\"1\" class=\"dataframe\">\n",
       "  <thead>\n",
       "    <tr style=\"text-align: right;\">\n",
       "      <th></th>\n",
       "      <th>id</th>\n",
       "      <th>is_manhattan</th>\n",
       "      <th>neighbourhood</th>\n",
       "      <th>room_type</th>\n",
       "      <th>minimum_nights</th>\n",
       "      <th>latitude</th>\n",
       "      <th>longitude</th>\n",
       "      <th>estimated_listed_months</th>\n",
       "      <th>availability_365</th>\n",
       "      <th>number_of_reviews</th>\n",
       "      <th>calculated_host_listings_count</th>\n",
       "      <th>last_review</th>\n",
       "      <th>log_price</th>\n",
       "      <th>update_timestamp_utc</th>\n",
       "    </tr>\n",
       "  </thead>\n",
       "  <tbody>\n",
       "    <tr>\n",
       "      <th>0</th>\n",
       "      <td>6261696</td>\n",
       "      <td>False</td>\n",
       "      <td>Williamsburg</td>\n",
       "      <td>Private room</td>\n",
       "      <td>3.0</td>\n",
       "      <td>40.70839</td>\n",
       "      <td>-73.94538</td>\n",
       "      <td>50.602410</td>\n",
       "      <td>0.0</td>\n",
       "      <td>126.0</td>\n",
       "      <td>2.0</td>\n",
       "      <td>2018-01-27</td>\n",
       "      <td>4.787492</td>\n",
       "      <td>2025-02-12 04:05:47.873</td>\n",
       "    </tr>\n",
       "    <tr>\n",
       "      <th>1</th>\n",
       "      <td>6619589</td>\n",
       "      <td>False</td>\n",
       "      <td>Flatbush</td>\n",
       "      <td>Entire home/apt</td>\n",
       "      <td>3.0</td>\n",
       "      <td>40.64683</td>\n",
       "      <td>-73.95429</td>\n",
       "      <td>49.152542</td>\n",
       "      <td>205.0</td>\n",
       "      <td>58.0</td>\n",
       "      <td>2.0</td>\n",
       "      <td>2019-06-24</td>\n",
       "      <td>4.709530</td>\n",
       "      <td>2025-02-12 04:05:47.873</td>\n",
       "    </tr>\n",
       "    <tr>\n",
       "      <th>2</th>\n",
       "      <td>16936036</td>\n",
       "      <td>False</td>\n",
       "      <td>Greenpoint</td>\n",
       "      <td>Private room</td>\n",
       "      <td>2.0</td>\n",
       "      <td>40.72155</td>\n",
       "      <td>-73.94414</td>\n",
       "      <td>29.807692</td>\n",
       "      <td>60.0</td>\n",
       "      <td>155.0</td>\n",
       "      <td>2.0</td>\n",
       "      <td>2019-06-30</td>\n",
       "      <td>4.094345</td>\n",
       "      <td>2025-02-12 04:05:47.873</td>\n",
       "    </tr>\n",
       "    <tr>\n",
       "      <th>3</th>\n",
       "      <td>31562978</td>\n",
       "      <td>False</td>\n",
       "      <td>Bensonhurst</td>\n",
       "      <td>Entire home/apt</td>\n",
       "      <td>2.0</td>\n",
       "      <td>40.60364</td>\n",
       "      <td>-73.99524</td>\n",
       "      <td>NaN</td>\n",
       "      <td>0.0</td>\n",
       "      <td>0.0</td>\n",
       "      <td>1.0</td>\n",
       "      <td>NaT</td>\n",
       "      <td>4.836282</td>\n",
       "      <td>2025-02-12 04:05:47.873</td>\n",
       "    </tr>\n",
       "    <tr>\n",
       "      <th>4</th>\n",
       "      <td>14858777</td>\n",
       "      <td>True</td>\n",
       "      <td>Harlem</td>\n",
       "      <td>Private room</td>\n",
       "      <td>5.0</td>\n",
       "      <td>40.81172</td>\n",
       "      <td>-73.94456</td>\n",
       "      <td>33.333333</td>\n",
       "      <td>305.0</td>\n",
       "      <td>6.0</td>\n",
       "      <td>2.0</td>\n",
       "      <td>2017-09-20</td>\n",
       "      <td>4.276666</td>\n",
       "      <td>2025-02-12 04:05:47.873</td>\n",
       "    </tr>\n",
       "  </tbody>\n",
       "</table>\n",
       "</div>"
      ],
      "text/plain": [
       "         id  is_manhattan  ... log_price    update_timestamp_utc\n",
       "0   6261696         False  ...  4.787492 2025-02-12 04:05:47.873\n",
       "1   6619589         False  ...  4.709530 2025-02-12 04:05:47.873\n",
       "2  16936036         False  ...  4.094345 2025-02-12 04:05:47.873\n",
       "3  31562978         False  ...  4.836282 2025-02-12 04:05:47.873\n",
       "4  14858777          True  ...  4.276666 2025-02-12 04:05:47.873\n",
       "\n",
       "[5 rows x 14 columns]"
      ]
     },
     "execution_count": 8,
     "metadata": {},
     "output_type": "execute_result"
    }
   ],
   "source": [
    "# Get the train and test set, and then combine them into a single dataframe\n",
    "train_set = spark.table(f\"{catalog_name}.{silver_schema_name}.airbnb_listing_price_train\").toPandas()\n",
    "test_set = spark.table(f\"{catalog_name}.{silver_schema_name}.airbnb_listing_price_test\").toPandas()\n",
    "full_df = pd.concat([train_set, test_set])\n",
    "full_df.head()"
   ]
  },
  {
   "cell_type": "code",
   "execution_count": 0,
   "metadata": {
    "application/vnd.databricks.v1+cell": {
     "cellMetadata": {
      "byteLimit": 2048000,
      "rowLimit": 10000
     },
     "inputWidgets": {},
     "nuid": "967dfbf3-6044-434f-ba10-44205b89c681",
     "showTitle": false,
     "tableResultSettingsMap": {},
     "title": ""
    }
   },
   "outputs": [],
   "source": [
    "model_name = config.model.MODEL_NAME"
   ]
  },
  {
   "cell_type": "code",
   "execution_count": 0,
   "metadata": {
    "application/vnd.databricks.v1+cell": {
     "cellMetadata": {
      "byteLimit": 2048000,
      "rowLimit": 10000
     },
     "inputWidgets": {},
     "nuid": "f9e069c5-c541-47d2-8f95-41bc82f3fe34",
     "showTitle": false,
     "tableResultSettingsMap": {},
     "title": ""
    }
   },
   "outputs": [],
   "source": [
    "# Load the latest basic model\n",
    "model = mlflow.sklearn.load_model(f\"models:/{catalog_name}.{model_asset_schema_name}.{model_name}_basic@latest-model\")"
   ]
  },
  {
   "cell_type": "code",
   "execution_count": 0,
   "metadata": {
    "application/vnd.databricks.v1+cell": {
     "cellMetadata": {
      "byteLimit": 2048000,
      "rowLimit": 10000
     },
     "inputWidgets": {},
     "nuid": "6b033865-7645-4e40-99e5-2c94455bdf17",
     "showTitle": false,
     "tableResultSettingsMap": {},
     "title": ""
    }
   },
   "outputs": [],
   "source": [
    "# Create inference (pred) table\n",
    "preds_df = full_df[[config.model.ID_COLUMN,\"latitude\", \"longitude\"]].copy()\n",
    "# Add predicted_listing_price to the preds_df by performing inference with full_df and the trained model\n",
    "preds_df[\"predicted_listing_price\"] = model.predict(full_df[config.model.SELECTED_NUMERIC_FEATURES + config.model.SELECTED_CATEGORICAL_FEATURES])\n",
    "# Convert to a spark dataframe\n",
    "preds_df = spark.createDataFrame(preds_df)"
   ]
  },
  {
   "cell_type": "code",
   "execution_count": 0,
   "metadata": {
    "application/vnd.databricks.v1+cell": {
     "cellMetadata": {
      "byteLimit": 2048000,
      "rowLimit": 10000
     },
     "inputWidgets": {},
     "nuid": "9e477936-695b-40c4-ba76-00832d065ae5",
     "showTitle": false,
     "tableResultSettingsMap": {},
     "title": ""
    }
   },
   "outputs": [
    {
     "data": {
      "text/plain": [
       "<FeatureTable: name='dev.airbnb_listing_ml_assets.airbnb_listing_preds', table_id='4c34e57c-f346-4fe3-bd0f-03689eb4872f', description='Airbnb listing prices predictions feature table', primary_keys=['id'], partition_columns=[], features=['id', 'latitude', 'longitude', 'predicted_listing_price'], creation_timestamp=1739761605413, online_stores=[cloud: AZURE\n",
       "store_type: BRICKSTORE\n",
       "name: \"dev.airbnb_listing_ml_assets.airbnb_listing_preds_online\"\n",
       "], notebook_producers=[], job_producers=[], table_data_sources=[], path_data_sources=[], custom_data_sources=[], timestamp_keys=[], tags={}>"
      ]
     },
     "execution_count": 12,
     "metadata": {},
     "output_type": "execute_result"
    }
   ],
   "source": [
    "# Create a feature table from preds_df (the inference table in spark)\n",
    "fe.create_table(\n",
    "    name=feature_table_name,\n",
    "    primary_keys=[config.model.ID_COLUMN],\n",
    "    df=preds_df,\n",
    "    description=\"Airbnb listing prices predictions feature table\",\n",
    ")"
   ]
  },
  {
   "cell_type": "code",
   "execution_count": 0,
   "metadata": {
    "application/vnd.databricks.v1+cell": {
     "cellMetadata": {
      "byteLimit": 2048000,
      "rowLimit": 10000
     },
     "inputWidgets": {},
     "nuid": "533d2910-f3d8-4e57-a351-e684a80b8e9f",
     "showTitle": false,
     "tableResultSettingsMap": {},
     "title": ""
    }
   },
   "outputs": [
    {
     "data": {
      "text/plain": [
       "DataFrame[]"
      ]
     },
     "execution_count": 13,
     "metadata": {},
     "output_type": "execute_result"
    }
   ],
   "source": [
    "# In order for the predictions (offline) predictions table to be served, I need to create a\n",
    "# read-copy low-latency copy of it (the online table). If I don't want to copy the full offline\n",
    "# table to the online table at each trigger, I need to enable ChangeDataFeed for the offline feature table\n",
    "spark.sql(f\"\"\"\n",
    "          ALTER TABLE {feature_table_name}\n",
    "          SET TBLPROPERTIES (delta.enableChangeDataFeed = true)\n",
    "        \"\"\")\n"
   ]
  },
  {
   "cell_type": "code",
   "execution_count": 0,
   "metadata": {
    "application/vnd.databricks.v1+cell": {
     "cellMetadata": {
      "byteLimit": 2048000,
      "rowLimit": 10000
     },
     "inputWidgets": {},
     "nuid": "269006ac-dee4-429a-b68f-c0714b7cc429",
     "showTitle": false,
     "tableResultSettingsMap": {},
     "title": ""
    }
   },
   "outputs": [],
   "source": [
    "# Initialize feature store manager\n",
    "feature_serving = FeatureServing(\n",
    "    feature_table_name=feature_table_name, feature_spec_name=feature_spec_name, endpoint_name=endpoint_name\n",
    ")"
   ]
  },
  {
   "cell_type": "code",
   "execution_count": 0,
   "metadata": {
    "application/vnd.databricks.v1+cell": {
     "cellMetadata": {
      "byteLimit": 2048000,
      "rowLimit": 10000
     },
     "inputWidgets": {},
     "nuid": "130f8ccb-a17e-474c-869a-3b4c4ca669c4",
     "showTitle": false,
     "tableResultSettingsMap": {},
     "title": ""
    }
   },
   "outputs": [
    {
     "name": "stderr",
     "output_type": "stream",
     "text": [
      "2025-02-17 04:38:09,397 - airbnb_listing - INFO - Online table dev.airbnb_listing_ml_assets.airbnb_listing_preds_online already exists.\n",
      "INFO:airbnb_listing:Online table dev.airbnb_listing_ml_assets.airbnb_listing_preds_online already exists.\n"
     ]
    }
   ],
   "source": [
    "# Create online table\n",
    "feature_serving.create_online_table()"
   ]
  },
  {
   "cell_type": "code",
   "execution_count": 0,
   "metadata": {
    "application/vnd.databricks.v1+cell": {
     "cellMetadata": {
      "byteLimit": 2048000,
      "rowLimit": 10000
     },
     "inputWidgets": {},
     "nuid": "115280c5-fdc0-40f8-9612-55582da5ce19",
     "showTitle": false,
     "tableResultSettingsMap": {},
     "title": ""
    }
   },
   "outputs": [
    {
     "name": "stderr",
     "output_type": "stream",
     "text": [
      "2025-02-17 04:38:12,036 - airbnb_listing - INFO - feature spec already exists\n",
      "INFO:airbnb_listing:feature spec already exists\n"
     ]
    }
   ],
   "source": [
    "# Create feature spec\n",
    "try:\n",
    "    feature_serving.create_feature_spec()\n",
    "except Exception as e:\n",
    "    if 'RESOURCE_ALREADY_EXISTS' in str(e):\n",
    "        logger.info(\"feature spec already exists\")\n",
    "    else:\n",
    "        raise"
   ]
  },
  {
   "cell_type": "code",
   "execution_count": 0,
   "metadata": {
    "application/vnd.databricks.v1+cell": {
     "cellMetadata": {
      "byteLimit": 2048000,
      "rowLimit": 10000
     },
     "inputWidgets": {},
     "nuid": "b3fd8163-cda3-45f1-b081-f7d56621f278",
     "showTitle": false,
     "tableResultSettingsMap": {},
     "title": ""
    }
   },
   "outputs": [],
   "source": [
    "# Deploy feature serving endpoint\n",
    "feature_serving.deploy_or_update_serving_endpoint()"
   ]
  },
  {
   "cell_type": "markdown",
   "metadata": {
    "application/vnd.databricks.v1+cell": {
     "cellMetadata": {
      "byteLimit": 2048000,
      "rowLimit": 10000
     },
     "inputWidgets": {},
     "nuid": "b63bf03c-9767-4729-be11-ba45a18a6718",
     "showTitle": false,
     "tableResultSettingsMap": {},
     "title": ""
    }
   },
   "source": [
    "### Test the Feature Serving Endpoint"
   ]
  },
  {
   "cell_type": "code",
   "execution_count": 0,
   "metadata": {
    "application/vnd.databricks.v1+cell": {
     "cellMetadata": {
      "byteLimit": 2048000,
      "rowLimit": 10000
     },
     "inputWidgets": {},
     "nuid": "8b0f7bc1-8a2a-443f-a4b7-d1f27cca19b9",
     "showTitle": false,
     "tableResultSettingsMap": {},
     "title": ""
    }
   },
   "outputs": [
    {
     "name": "stdout",
     "output_type": "stream",
     "text": [
      "Response status: 200\n",
      "Reponse text: {\"outputs\": [{\"id\": \"6261696\", \"latitude\": 40.70839, \"longitude\": -73.94538, \"predicted_listing_price\": 4.383331418844686}, {\"id\": \"6619589\", \"latitude\": 40.64683, \"longitude\": -73.95429, \"predicted_listing_price\": 4.744786028834602}]}\n",
      "Execution time: 0.5885396003723145 seconds\n"
     ]
    }
   ],
   "source": [
    "start_time = time.time()\n",
    "\n",
    "# Serving endpoint URL\n",
    "serving_endpoint = f\"https://{os.environ['DBR_HOST']}/serving-endpoints/{endpoint_name}/invocations\"\n",
    "\n",
    "# Send request to get response, ise datafraome-records payload structure \n",
    "response = requests.post(\n",
    "    f\"{serving_endpoint}\",\n",
    "    headers={\"Authorization\": f\"Bearer {os.environ['DBR_TOKEN']}\"},\n",
    "    json={\"dataframe_records\": [{\"id\": \"6261696\"}, {\"id\": \"6619589\"}]},\n",
    ")\n",
    "\n",
    "end_time = time.time()\n",
    "execution_time = end_time - start_time\n",
    "\n",
    "\n",
    "print(\"Response status:\", response.status_code)\n",
    "print(\"Reponse text:\", response.text)\n",
    "print(\"Execution time:\", execution_time, \"seconds\")"
   ]
  },
  {
   "cell_type": "code",
   "execution_count": 0,
   "metadata": {
    "application/vnd.databricks.v1+cell": {
     "cellMetadata": {
      "byteLimit": 2048000,
      "rowLimit": 10000
     },
     "inputWidgets": {},
     "nuid": "b829f6d9-def9-4f86-a0c4-9e32f75e35cb",
     "showTitle": false,
     "tableResultSettingsMap": {},
     "title": ""
    }
   },
   "outputs": [
    {
     "name": "stdout",
     "output_type": "stream",
     "text": [
      "Response status: 200\n",
      "Reponse text: {\"outputs\": [{\"id\": \"16936036\", \"latitude\": 40.72155, \"longitude\": -73.94414, \"predicted_listing_price\": 4.34250052880085}, {\"id\": \"31562978\", \"latitude\": 40.60364, \"longitude\": -73.99524, \"predicted_listing_price\": 4.732153893066022}]}\n",
      "Execution time: 0.5885396003723145 seconds\n"
     ]
    }
   ],
   "source": [
    "# Post data in the dataframe split payload structure\n",
    "response = requests.post(\n",
    "    f\"{serving_endpoint}\",\n",
    "    headers={\"Authorization\": f\"Bearer {os.environ['DBR_TOKEN']}\"},\n",
    "    json={\"dataframe_split\": {\"columns\": [\"id\"], \"data\": [[\"16936036\"], [\"31562978\"]]}},\n",
    ")\n",
    "\n",
    "print(\"Response status:\", response.status_code)\n",
    "print(\"Reponse text:\", response.text)\n",
    "print(\"Execution time:\", execution_time, \"seconds\")"
   ]
  },
  {
   "cell_type": "code",
   "execution_count": 0,
   "metadata": {
    "application/vnd.databricks.v1+cell": {
     "cellMetadata": {},
     "inputWidgets": {},
     "nuid": "9b4e3ac5-28be-4173-a2af-65263ebc41dd",
     "showTitle": false,
     "tableResultSettingsMap": {},
     "title": ""
    }
   },
   "outputs": [],
   "source": []
  }
 ],
 "metadata": {
  "application/vnd.databricks.v1+notebook": {
   "computePreferences": null,
   "dashboards": [],
   "environmentMetadata": null,
   "language": "python",
   "notebookMetadata": {
    "pythonIndentUnit": 4
   },
   "notebookName": "(Clone) 03a_deploy_feature_serving_endpoint",
   "widgets": {}
  },
  "kernelspec": {
   "display_name": ".venv",
   "language": "python",
   "name": "python3"
  },
  "language_info": {
   "name": "python"
  }
 },
 "nbformat": 4,
 "nbformat_minor": 0
}
